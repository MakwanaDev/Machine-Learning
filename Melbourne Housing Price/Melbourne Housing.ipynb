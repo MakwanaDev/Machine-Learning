{
 "cells": [
  {
   "cell_type": "code",
   "execution_count": 1,
   "id": "e0c55494",
   "metadata": {},
   "outputs": [],
   "source": [
    "import pandas as pd\n",
    "import numpy as np\n",
    "import matplotlib.pyplot as plt\n",
    "plt.style.use('ggplot')\n",
    "from sklearn.ensemble import ExtraTreesClassifier\n",
    "import seaborn as sns\n",
    "sns.set_style('darkgrid')\n",
    "import warnings\n",
    "warnings.filterwarnings('ignore')\n",
    "%matplotlib inline"
   ]
  },
  {
   "cell_type": "code",
   "execution_count": 2,
   "id": "03b29552",
   "metadata": {},
   "outputs": [
    {
     "data": {
      "text/html": [
       "<div>\n",
       "<style scoped>\n",
       "    .dataframe tbody tr th:only-of-type {\n",
       "        vertical-align: middle;\n",
       "    }\n",
       "\n",
       "    .dataframe tbody tr th {\n",
       "        vertical-align: top;\n",
       "    }\n",
       "\n",
       "    .dataframe thead th {\n",
       "        text-align: right;\n",
       "    }\n",
       "</style>\n",
       "<table border=\"1\" class=\"dataframe\">\n",
       "  <thead>\n",
       "    <tr style=\"text-align: right;\">\n",
       "      <th></th>\n",
       "      <th>Suburb</th>\n",
       "      <th>Address</th>\n",
       "      <th>Rooms</th>\n",
       "      <th>Type</th>\n",
       "      <th>Price</th>\n",
       "      <th>Method</th>\n",
       "      <th>SellerG</th>\n",
       "      <th>Date</th>\n",
       "      <th>Distance</th>\n",
       "      <th>Postcode</th>\n",
       "      <th>Bedroom2</th>\n",
       "      <th>Bathroom</th>\n",
       "      <th>Car</th>\n",
       "      <th>Landsize</th>\n",
       "      <th>BuildingArea</th>\n",
       "      <th>YearBuilt</th>\n",
       "      <th>CouncilArea</th>\n",
       "      <th>Lattitude</th>\n",
       "      <th>Longtitude</th>\n",
       "      <th>Regionname</th>\n",
       "      <th>Propertycount</th>\n",
       "    </tr>\n",
       "  </thead>\n",
       "  <tbody>\n",
       "    <tr>\n",
       "      <th>0</th>\n",
       "      <td>Abbotsford</td>\n",
       "      <td>68 Studley St</td>\n",
       "      <td>2</td>\n",
       "      <td>h</td>\n",
       "      <td>NaN</td>\n",
       "      <td>SS</td>\n",
       "      <td>Jellis</td>\n",
       "      <td>03-09-2016</td>\n",
       "      <td>2.5</td>\n",
       "      <td>3067.0</td>\n",
       "      <td>2.0</td>\n",
       "      <td>1.0</td>\n",
       "      <td>1.0</td>\n",
       "      <td>126.0</td>\n",
       "      <td>NaN</td>\n",
       "      <td>NaN</td>\n",
       "      <td>Yarra City Council</td>\n",
       "      <td>-37.8014</td>\n",
       "      <td>144.9958</td>\n",
       "      <td>Northern Metropolitan</td>\n",
       "      <td>4019.0</td>\n",
       "    </tr>\n",
       "    <tr>\n",
       "      <th>1</th>\n",
       "      <td>Abbotsford</td>\n",
       "      <td>85 Turner St</td>\n",
       "      <td>2</td>\n",
       "      <td>h</td>\n",
       "      <td>1480000.0</td>\n",
       "      <td>S</td>\n",
       "      <td>Biggin</td>\n",
       "      <td>03-12-2016</td>\n",
       "      <td>2.5</td>\n",
       "      <td>3067.0</td>\n",
       "      <td>2.0</td>\n",
       "      <td>1.0</td>\n",
       "      <td>1.0</td>\n",
       "      <td>202.0</td>\n",
       "      <td>NaN</td>\n",
       "      <td>NaN</td>\n",
       "      <td>Yarra City Council</td>\n",
       "      <td>-37.7996</td>\n",
       "      <td>144.9984</td>\n",
       "      <td>Northern Metropolitan</td>\n",
       "      <td>4019.0</td>\n",
       "    </tr>\n",
       "    <tr>\n",
       "      <th>2</th>\n",
       "      <td>Abbotsford</td>\n",
       "      <td>25 Bloomburg St</td>\n",
       "      <td>2</td>\n",
       "      <td>h</td>\n",
       "      <td>1035000.0</td>\n",
       "      <td>S</td>\n",
       "      <td>Biggin</td>\n",
       "      <td>04-02-2016</td>\n",
       "      <td>2.5</td>\n",
       "      <td>3067.0</td>\n",
       "      <td>2.0</td>\n",
       "      <td>1.0</td>\n",
       "      <td>0.0</td>\n",
       "      <td>156.0</td>\n",
       "      <td>79.0</td>\n",
       "      <td>1900.0</td>\n",
       "      <td>Yarra City Council</td>\n",
       "      <td>-37.8079</td>\n",
       "      <td>144.9934</td>\n",
       "      <td>Northern Metropolitan</td>\n",
       "      <td>4019.0</td>\n",
       "    </tr>\n",
       "    <tr>\n",
       "      <th>3</th>\n",
       "      <td>Abbotsford</td>\n",
       "      <td>18/659 Victoria St</td>\n",
       "      <td>3</td>\n",
       "      <td>u</td>\n",
       "      <td>NaN</td>\n",
       "      <td>VB</td>\n",
       "      <td>Rounds</td>\n",
       "      <td>04-02-2016</td>\n",
       "      <td>2.5</td>\n",
       "      <td>3067.0</td>\n",
       "      <td>3.0</td>\n",
       "      <td>2.0</td>\n",
       "      <td>1.0</td>\n",
       "      <td>0.0</td>\n",
       "      <td>NaN</td>\n",
       "      <td>NaN</td>\n",
       "      <td>Yarra City Council</td>\n",
       "      <td>-37.8114</td>\n",
       "      <td>145.0116</td>\n",
       "      <td>Northern Metropolitan</td>\n",
       "      <td>4019.0</td>\n",
       "    </tr>\n",
       "    <tr>\n",
       "      <th>4</th>\n",
       "      <td>Abbotsford</td>\n",
       "      <td>5 Charles St</td>\n",
       "      <td>3</td>\n",
       "      <td>h</td>\n",
       "      <td>1465000.0</td>\n",
       "      <td>SP</td>\n",
       "      <td>Biggin</td>\n",
       "      <td>04-03-2017</td>\n",
       "      <td>2.5</td>\n",
       "      <td>3067.0</td>\n",
       "      <td>3.0</td>\n",
       "      <td>2.0</td>\n",
       "      <td>0.0</td>\n",
       "      <td>134.0</td>\n",
       "      <td>150.0</td>\n",
       "      <td>1900.0</td>\n",
       "      <td>Yarra City Council</td>\n",
       "      <td>-37.8093</td>\n",
       "      <td>144.9944</td>\n",
       "      <td>Northern Metropolitan</td>\n",
       "      <td>4019.0</td>\n",
       "    </tr>\n",
       "  </tbody>\n",
       "</table>\n",
       "</div>"
      ],
      "text/plain": [
       "       Suburb             Address  Rooms Type      Price Method SellerG  \\\n",
       "0  Abbotsford       68 Studley St      2    h        NaN     SS  Jellis   \n",
       "1  Abbotsford        85 Turner St      2    h  1480000.0      S  Biggin   \n",
       "2  Abbotsford     25 Bloomburg St      2    h  1035000.0      S  Biggin   \n",
       "3  Abbotsford  18/659 Victoria St      3    u        NaN     VB  Rounds   \n",
       "4  Abbotsford        5 Charles St      3    h  1465000.0     SP  Biggin   \n",
       "\n",
       "         Date  Distance  Postcode  Bedroom2  Bathroom  Car  Landsize  \\\n",
       "0  03-09-2016       2.5    3067.0       2.0       1.0  1.0     126.0   \n",
       "1  03-12-2016       2.5    3067.0       2.0       1.0  1.0     202.0   \n",
       "2  04-02-2016       2.5    3067.0       2.0       1.0  0.0     156.0   \n",
       "3  04-02-2016       2.5    3067.0       3.0       2.0  1.0       0.0   \n",
       "4  04-03-2017       2.5    3067.0       3.0       2.0  0.0     134.0   \n",
       "\n",
       "   BuildingArea  YearBuilt         CouncilArea  Lattitude  Longtitude  \\\n",
       "0           NaN        NaN  Yarra City Council   -37.8014    144.9958   \n",
       "1           NaN        NaN  Yarra City Council   -37.7996    144.9984   \n",
       "2          79.0     1900.0  Yarra City Council   -37.8079    144.9934   \n",
       "3           NaN        NaN  Yarra City Council   -37.8114    145.0116   \n",
       "4         150.0     1900.0  Yarra City Council   -37.8093    144.9944   \n",
       "\n",
       "              Regionname  Propertycount  \n",
       "0  Northern Metropolitan         4019.0  \n",
       "1  Northern Metropolitan         4019.0  \n",
       "2  Northern Metropolitan         4019.0  \n",
       "3  Northern Metropolitan         4019.0  \n",
       "4  Northern Metropolitan         4019.0  "
      ]
     },
     "execution_count": 2,
     "metadata": {},
     "output_type": "execute_result"
    }
   ],
   "source": [
    "pd.set_option('display.max_columns',None)\n",
    "df = pd.read_csv(\"melbourne_housing (1).csv\")\n",
    "df1 = df.copy()\n",
    "df.head()"
   ]
  },
  {
   "cell_type": "code",
   "execution_count": null,
   "id": "2128d0dd",
   "metadata": {},
   "outputs": [],
   "source": [
    "df.shape"
   ]
  },
  {
   "cell_type": "code",
   "execution_count": null,
   "id": "96e671bb",
   "metadata": {},
   "outputs": [],
   "source": [
    "df.info()"
   ]
  },
  {
   "cell_type": "code",
   "execution_count": null,
   "id": "5e2a71c6",
   "metadata": {},
   "outputs": [],
   "source": [
    "df.describe()"
   ]
  },
  {
   "cell_type": "code",
   "execution_count": null,
   "id": "61cb777b",
   "metadata": {
    "scrolled": false
   },
   "outputs": [],
   "source": [
    "df.isnull().sum()"
   ]
  },
  {
   "cell_type": "code",
   "execution_count": null,
   "id": "3c95d2fe",
   "metadata": {},
   "outputs": [],
   "source": [
    "# Dropping YearBuilt & BildinArea column as having more than 50% null values\n",
    "# Dropping Postcode\n",
    "df = df.drop(['YearBuilt','Postcode','BuildingArea'],axis=1)"
   ]
  },
  {
   "cell_type": "markdown",
   "id": "18a453d7",
   "metadata": {},
   "source": [
    "-\n",
    "\n",
    "## EDA and Preprocessing\n",
    "\n",
    "-"
   ]
  },
  {
   "cell_type": "code",
   "execution_count": null,
   "id": "d9c60827",
   "metadata": {},
   "outputs": [],
   "source": [
    "plt.figure(figsize=(12,5))\n",
    "sns.heatmap(df.isnull(),yticklabels=False,cbar=False,cmap='viridis')"
   ]
  },
  {
   "cell_type": "markdown",
   "id": "7f6c59cd",
   "metadata": {},
   "source": [
    "#### Ploting count columns having less than 15 unique values"
   ]
  },
  {
   "cell_type": "code",
   "execution_count": 3,
   "id": "7264e9ec",
   "metadata": {},
   "outputs": [
    {
     "data": {
      "text/plain": [
       "5"
      ]
     },
     "execution_count": 3,
     "metadata": {},
     "output_type": "execute_result"
    }
   ],
   "source": [
    "cols1 = [col for col in df.columns if len(df[col].unique()) < 15]\n",
    "len(cols1)"
   ]
  },
  {
   "cell_type": "raw",
   "id": "4bb80f24",
   "metadata": {},
   "source": [
    "f , ax = plt.subplots(5,1,figsize=(14,30))\n",
    "\n",
    "for col,i in zip(cols1,range(1,6)):\n",
    "    plt.subplot(5,1,i)\n",
    "    plt.title(col)\n",
    "    plt.xticks(fontsize=14)\n",
    "    if col == 'Regionname':\n",
    "        plt.xticks(fontsize=12,rotation=90)\n",
    "    sns.countplot(df[col])\n",
    "    print('')\n",
    "    #df[col].hist()"
   ]
  },
  {
   "cell_type": "markdown",
   "id": "80fe795a",
   "metadata": {},
   "source": [
    "#### Plotting Continuous Columns"
   ]
  },
  {
   "cell_type": "code",
   "execution_count": 4,
   "id": "4d727074",
   "metadata": {},
   "outputs": [
    {
     "data": {
      "text/plain": [
       "13"
      ]
     },
     "execution_count": 4,
     "metadata": {},
     "output_type": "execute_result"
    }
   ],
   "source": [
    "cols2 = [col for col in df.columns if df[col].dtypes in ['int64','float64']]\n",
    "len(cols2)"
   ]
  },
  {
   "cell_type": "raw",
   "id": "bc3370cb",
   "metadata": {},
   "source": [
    "fig , ax = plt.subplots(12,1,figsize=(10,80))\n",
    "\n",
    "for col,i in zip(cols2,range(1,len(cols2)+1)):\n",
    "    plt.subplot(12,1,i)\n",
    "    #plt.title(col)\n",
    "    sns.distplot(df[col].dropna(),color='blue')\n",
    "    "
   ]
  },
  {
   "cell_type": "markdown",
   "id": "9dc4ed6f",
   "metadata": {},
   "source": [
    "##### Joint plot with respect to all numerical features"
   ]
  },
  {
   "cell_type": "raw",
   "id": "01bd73ff",
   "metadata": {},
   "source": [
    "for col,i in zip(cols2,range(1,len(cols2)+1)):\n",
    "    #plt.title(col)\n",
    "    plt.figure(figsize=(7,6))\n",
    "    sns.jointplot(x=df[col],y=df['Price'],kind='reg')\n",
    "    "
   ]
  },
  {
   "cell_type": "markdown",
   "id": "626abd18",
   "metadata": {},
   "source": [
    "##### Lookign for outliers"
   ]
  },
  {
   "cell_type": "raw",
   "id": "830fc224",
   "metadata": {},
   "source": [
    "fig , ax = plt.subplots(12,1,figsize=(10,80))\n",
    "\n",
    "for col,i in zip(cols2,range(1,13)):\n",
    "    plt.subplot(12,1,i)\n",
    "    #plt.title(col)\n",
    "    sns.boxplot(y=df[col],orient='v')"
   ]
  },
  {
   "cell_type": "code",
   "execution_count": 5,
   "id": "152d9f48",
   "metadata": {},
   "outputs": [
    {
     "name": "stdout",
     "output_type": "stream",
     "text": [
      "13\n"
     ]
    },
    {
     "data": {
      "text/plain": [
       "['Price',\n",
       " 'Distance',\n",
       " 'Postcode',\n",
       " 'Landsize',\n",
       " 'BuildingArea',\n",
       " 'YearBuilt',\n",
       " 'Lattitude',\n",
       " 'Longtitude',\n",
       " 'Propertycount']"
      ]
     },
     "execution_count": 5,
     "metadata": {},
     "output_type": "execute_result"
    }
   ],
   "source": [
    "cols3 = [col for col in df.columns if df[col].dtypes in ['float64'] and col not in ['Car','Rooms','Bedroom2','Bathroom']]\n",
    "print(len(cols2))\n",
    "cols3"
   ]
  },
  {
   "cell_type": "code",
   "execution_count": 6,
   "id": "26185d1a",
   "metadata": {},
   "outputs": [],
   "source": [
    "## Function to detect outliers\n",
    "\n",
    "def find_outliers(col):\n",
    "    \n",
    "    outliers = []\n",
    "    \n",
    "    data_std = np.std(df[col])\n",
    "    data_mean = np.mean(df[col])\n",
    "    \n",
    "    lower_limit = data_std - (data_std * 3)\n",
    "    upper_limit = data_std + (data_std *3)\n",
    "    \n",
    "    outliers = df[(df[col] < lower_limit) & (df[col] > upper_limit)]\n",
    "    \n",
    "    return len(outliers)"
   ]
  },
  {
   "cell_type": "code",
   "execution_count": 7,
   "id": "5d1d7e34",
   "metadata": {
    "scrolled": true
   },
   "outputs": [
    {
     "name": "stdout",
     "output_type": "stream",
     "text": [
      "Price : 0\n",
      "Distance : 0\n",
      "Postcode : 0\n",
      "Landsize : 0\n",
      "BuildingArea : 0\n",
      "YearBuilt : 0\n",
      "Lattitude : 0\n",
      "Longtitude : 0\n",
      "Propertycount : 0\n"
     ]
    }
   ],
   "source": [
    "for col in cols3:\n",
    "    print(f'{col} : {find_outliers(col)}')"
   ]
  },
  {
   "cell_type": "code",
   "execution_count": null,
   "id": "fda9dd70",
   "metadata": {},
   "outputs": [],
   "source": [
    "## Checking Median and Mode of remaining columns\n",
    "def Stat(col):\n",
    "    print(f'Mean : {df[col].mean()}')\n",
    "    print(f'Median : {df[col].median()}')\n",
    "    print(f'Mode : {df[col].mode()[0]}')"
   ]
  },
  {
   "cell_type": "markdown",
   "id": "e9f029f3",
   "metadata": {},
   "source": [
    "#### Distribution of price before Transformation"
   ]
  },
  {
   "cell_type": "code",
   "execution_count": null,
   "id": "5e626082",
   "metadata": {},
   "outputs": [],
   "source": [
    "plt.figure(figsize=(12,6))\n",
    "print('Min : {}   Max : {}'.format(min(df1['Price'].dropna()),max(df1['Price'].dropna())))\n",
    "plt.xlim(85000,4000000)\n",
    "sns.distplot(df['Price'].dropna(),bins=150)"
   ]
  },
  {
   "cell_type": "code",
   "execution_count": null,
   "id": "d33929a0",
   "metadata": {},
   "outputs": [],
   "source": [
    "import scipy.stats as stat\n",
    "import pylab \n",
    "import statsmodels.api as sm"
   ]
  },
  {
   "cell_type": "code",
   "execution_count": null,
   "id": "94621dd6",
   "metadata": {},
   "outputs": [],
   "source": [
    "#### If you want to check whether feature is guassian or normal distributed\n",
    "#### Q-Q plot\n",
    "def plot_data(df,feature):\n",
    "    plt.figure(figsize=(10,6))\n",
    "    plt.subplot(1,2,1)\n",
    "    df[feature].hist()\n",
    "    #plt.subplot(1,2,2)\n",
    "    #stat.probplot(df[feature],dist='norm',plot=pylab)\n",
    "    #plt.show()\n",
    "    sm.qqplot(df[feature],line='q')\n",
    "    pylab.show()"
   ]
  },
  {
   "cell_type": "code",
   "execution_count": null,
   "id": "29d3bad9",
   "metadata": {},
   "outputs": [],
   "source": [
    "plot_data(df,'Price')"
   ]
  },
  {
   "cell_type": "markdown",
   "id": "c15161c0",
   "metadata": {},
   "source": [
    "#### Logrithmic Transformation"
   ]
  },
  {
   "cell_type": "code",
   "execution_count": null,
   "id": "7490101f",
   "metadata": {},
   "outputs": [],
   "source": [
    "df1['Price Log'] = np.log(df1['Price'])\n",
    "plot_data(df1,'Price Log')"
   ]
  },
  {
   "cell_type": "markdown",
   "id": "dc8d98ab",
   "metadata": {},
   "source": [
    "#### Expotential Tarnsformation"
   ]
  },
  {
   "cell_type": "code",
   "execution_count": null,
   "id": "353bd867",
   "metadata": {
    "scrolled": false
   },
   "outputs": [],
   "source": [
    "df1['Price Expo']  =  df1['Price'] ** (1/1.2)\n",
    "plot_data(df1,'Price Expo')"
   ]
  },
  {
   "cell_type": "code",
   "execution_count": 8,
   "id": "c1f702ef",
   "metadata": {},
   "outputs": [],
   "source": [
    "### Transforming Price Using Logrithmic Transformation\n",
    "df['Price'] = np.log(df['Price'])"
   ]
  },
  {
   "cell_type": "code",
   "execution_count": null,
   "id": "86b64d11",
   "metadata": {},
   "outputs": [],
   "source": [
    "plot_data(df,'Landsize')"
   ]
  },
  {
   "cell_type": "code",
   "execution_count": null,
   "id": "ac6e4790",
   "metadata": {
    "scrolled": false
   },
   "outputs": [],
   "source": [
    "plot_data(df,'Lattitude')"
   ]
  },
  {
   "cell_type": "code",
   "execution_count": null,
   "id": "f6be4a7f",
   "metadata": {},
   "outputs": [],
   "source": [
    "plot_data(df,'Longtitude')"
   ]
  },
  {
   "cell_type": "code",
   "execution_count": null,
   "id": "c26e8d10",
   "metadata": {},
   "outputs": [],
   "source": [
    "plt.figure(figsize=(12,6))\n",
    "print('Min : {}   Max : {}'.format(min(df['Price'].dropna()),max(df['Price'].dropna())))\n",
    "#plt.xlim(85000,4000000)\n",
    "sns.distplot(df['Price'].dropna(),bins=100)"
   ]
  },
  {
   "cell_type": "code",
   "execution_count": null,
   "id": "ae7da47a",
   "metadata": {},
   "outputs": [],
   "source": [
    "plt.figure(figsize=(12,6))\n",
    "print('Min : {}   Max : {}'.format(min(df['Price'].fillna(df['Price'].mean())),max(df['Price'].fillna(df['Price'].mean()))))\n",
    "#plt.xlim(85000,4000000)\n",
    "plt.ylim(0,2)\n",
    "sns.distplot(df['Price'].fillna(df['Price'].mean()),bins=150)"
   ]
  },
  {
   "cell_type": "code",
   "execution_count": null,
   "id": "e5f4d6aa",
   "metadata": {},
   "outputs": [],
   "source": [
    "plt.figure(figsize=(12,6))\n",
    "#print('Min : {}   Max : {}'.format(min(df['Price'].fillna(df['Price'].mean())),max(df['Price'].fillna(df['Price'].mean()))))\n",
    "#plt.xlim(85000,4000000)\n",
    "plt.ylim(0,2)\n",
    "sns.distplot(df['Price'].fillna(df['Price'].median()),bins=150)"
   ]
  },
  {
   "cell_type": "code",
   "execution_count": null,
   "id": "3aee2acf",
   "metadata": {},
   "outputs": [],
   "source": [
    "plt.figure(figsize=(12,6))\n",
    "#print('Min : {}   Max : {}'.format(min(df['Price'].fillna(df['Price'].mean())),max(df['Price'].fillna(df['Price'].mean()))))\n",
    "#plt.xlim(85000,4000000)\n",
    "plt.ylim(0,2)\n",
    "sns.distplot(df['Price'].fillna(df['Price'].mode()[0]),bins=150)"
   ]
  },
  {
   "cell_type": "markdown",
   "id": "fdbaed0b",
   "metadata": {},
   "source": [
    "### Handling Missing values"
   ]
  },
  {
   "cell_type": "markdown",
   "id": "b748dab7",
   "metadata": {},
   "source": [
    "##### Filling the null values with Mean/Median/Mode"
   ]
  },
  {
   "cell_type": "code",
   "execution_count": null,
   "id": "56cc51ac",
   "metadata": {},
   "outputs": [],
   "source": [
    "df.isnull().sum()"
   ]
  },
  {
   "cell_type": "code",
   "execution_count": 9,
   "id": "b28883c0",
   "metadata": {},
   "outputs": [],
   "source": [
    "## Filling Bedroom,Bathroom and car with Mode\n",
    "\n",
    "for col in ['Bedroom2','Bathroom','Car']:\n",
    "    df[col] = df[col].fillna(df[col].mode()[0])"
   ]
  },
  {
   "cell_type": "code",
   "execution_count": null,
   "id": "d3941684",
   "metadata": {},
   "outputs": [],
   "source": [
    "### Filling Null values with Median"
   ]
  },
  {
   "cell_type": "code",
   "execution_count": 10,
   "id": "970b49d6",
   "metadata": {},
   "outputs": [],
   "source": [
    "def Fill_median(col):\n",
    "    df[col].fillna(df[col].median(),inplace=True)"
   ]
  },
  {
   "cell_type": "code",
   "execution_count": 11,
   "id": "bb886106",
   "metadata": {},
   "outputs": [],
   "source": [
    "for col in ['Price','Landsize','Lattitude','Longtitude']:\n",
    "    Fill_median(col)"
   ]
  },
  {
   "cell_type": "code",
   "execution_count": 12,
   "id": "728cf959",
   "metadata": {},
   "outputs": [
    {
     "data": {
      "text/plain": [
       "Suburb               0\n",
       "Address              0\n",
       "Rooms                0\n",
       "Type                 0\n",
       "Price                0\n",
       "Method               0\n",
       "SellerG              0\n",
       "Date                 0\n",
       "Distance             1\n",
       "Postcode             1\n",
       "Bedroom2             0\n",
       "Bathroom             0\n",
       "Car                  0\n",
       "Landsize             0\n",
       "BuildingArea     21115\n",
       "YearBuilt        19306\n",
       "CouncilArea          3\n",
       "Lattitude            0\n",
       "Longtitude           0\n",
       "Regionname           3\n",
       "Propertycount        3\n",
       "dtype: int64"
      ]
     },
     "execution_count": 12,
     "metadata": {},
     "output_type": "execute_result"
    }
   ],
   "source": [
    "df.isnull().sum()"
   ]
  },
  {
   "cell_type": "code",
   "execution_count": 13,
   "id": "51ef5c9a",
   "metadata": {},
   "outputs": [],
   "source": [
    "### Droppping Remaining Rows\n",
    "df.dropna(inplace=True)"
   ]
  },
  {
   "cell_type": "code",
   "execution_count": null,
   "id": "375d0604",
   "metadata": {},
   "outputs": [],
   "source": [
    "# Plotting Chart to see null values\n",
    "\n",
    "plt.figure(figsize=(12,5))\n",
    "sns.heatmap(df.isnull(),yticklabels=False,cbar=False,cmap='viridis')"
   ]
  },
  {
   "cell_type": "markdown",
   "id": "4421495f",
   "metadata": {},
   "source": [
    "### Feature Encoding"
   ]
  },
  {
   "cell_type": "code",
   "execution_count": null,
   "id": "c36a2958",
   "metadata": {},
   "outputs": [],
   "source": [
    "df.head()"
   ]
  },
  {
   "cell_type": "code",
   "execution_count": null,
   "id": "75e5b6b8",
   "metadata": {},
   "outputs": [],
   "source": [
    "print('Count of unique values in all features : ')\n",
    "df.nunique()"
   ]
  },
  {
   "cell_type": "code",
   "execution_count": 14,
   "id": "1fdc6036",
   "metadata": {},
   "outputs": [],
   "source": [
    "## Dropping Address , Suburb , 'SellerG'  due to high cardinality\n",
    "df = df.drop(['Address','Suburb','SellerG'],axis=1)"
   ]
  },
  {
   "cell_type": "code",
   "execution_count": 15,
   "id": "9ea1eb6a",
   "metadata": {},
   "outputs": [
    {
     "data": {
      "text/plain": [
       "['Type', 'Method', 'CouncilArea', 'Regionname']"
      ]
     },
     "execution_count": 15,
     "metadata": {},
     "output_type": "execute_result"
    }
   ],
   "source": [
    "### List of categorical features having less than 50 uniqe values\n",
    "\n",
    "lst = [col for col in df.columns if df[col].dtypes == 'object' and len(df[col].unique()) < 50]\n",
    "lst"
   ]
  },
  {
   "cell_type": "code",
   "execution_count": 16,
   "id": "e15cd9ef",
   "metadata": {},
   "outputs": [],
   "source": [
    "from sklearn.preprocessing import LabelEncoder\n",
    "LE = LabelEncoder()"
   ]
  },
  {
   "cell_type": "code",
   "execution_count": 17,
   "id": "14e0df48",
   "metadata": {},
   "outputs": [],
   "source": [
    "for col in lst:\n",
    "    df[col] = LE.fit_transform(df[col])"
   ]
  },
  {
   "cell_type": "code",
   "execution_count": null,
   "id": "f562fa1c",
   "metadata": {},
   "outputs": [],
   "source": [
    "df.head()"
   ]
  },
  {
   "cell_type": "markdown",
   "id": "0a70cd18",
   "metadata": {},
   "source": [
    "#### Feature Scaling"
   ]
  },
  {
   "cell_type": "code",
   "execution_count": 18,
   "id": "507198e8",
   "metadata": {},
   "outputs": [],
   "source": [
    "from sklearn.preprocessing import StandardScaler\n",
    "Std = StandardScaler()"
   ]
  },
  {
   "cell_type": "code",
   "execution_count": 19,
   "id": "af75297b",
   "metadata": {},
   "outputs": [],
   "source": [
    "df2 = pd.DataFrame(Std.fit_transform(df.drop('Date',axis=1)),columns=df.drop('Date',axis=1).columns)"
   ]
  },
  {
   "cell_type": "code",
   "execution_count": null,
   "id": "74eb894a",
   "metadata": {},
   "outputs": [],
   "source": [
    "df2.head()"
   ]
  },
  {
   "cell_type": "markdown",
   "id": "d94d093f",
   "metadata": {},
   "source": [
    "### Feature Selection"
   ]
  },
  {
   "cell_type": "code",
   "execution_count": 20,
   "id": "4726bec4",
   "metadata": {},
   "outputs": [],
   "source": [
    "X = df2.drop('Price',axis=1)\n",
    "Y = df2['Price']"
   ]
  },
  {
   "cell_type": "code",
   "execution_count": 21,
   "id": "c84d4aac",
   "metadata": {},
   "outputs": [],
   "source": [
    "from sklearn.feature_selection import SelectKBest,chi2,f_classif"
   ]
  },
  {
   "cell_type": "code",
   "execution_count": 22,
   "id": "d662f593",
   "metadata": {},
   "outputs": [],
   "source": [
    "X.dropna(inplace=True)"
   ]
  },
  {
   "cell_type": "code",
   "execution_count": 23,
   "id": "20f41941",
   "metadata": {},
   "outputs": [
    {
     "data": {
      "text/html": [
       "<div>\n",
       "<style scoped>\n",
       "    .dataframe tbody tr th:only-of-type {\n",
       "        vertical-align: middle;\n",
       "    }\n",
       "\n",
       "    .dataframe tbody tr th {\n",
       "        vertical-align: top;\n",
       "    }\n",
       "\n",
       "    .dataframe thead th {\n",
       "        text-align: right;\n",
       "    }\n",
       "</style>\n",
       "<table border=\"1\" class=\"dataframe\">\n",
       "  <thead>\n",
       "    <tr style=\"text-align: right;\">\n",
       "      <th></th>\n",
       "      <th>Feature</th>\n",
       "      <th>Score</th>\n",
       "    </tr>\n",
       "  </thead>\n",
       "  <tbody>\n",
       "    <tr>\n",
       "      <th>0</th>\n",
       "      <td>Rooms</td>\n",
       "      <td>2.813637</td>\n",
       "    </tr>\n",
       "    <tr>\n",
       "      <th>1</th>\n",
       "      <td>Type</td>\n",
       "      <td>2.737971</td>\n",
       "    </tr>\n",
       "    <tr>\n",
       "      <th>2</th>\n",
       "      <td>Method</td>\n",
       "      <td>0.805016</td>\n",
       "    </tr>\n",
       "    <tr>\n",
       "      <th>3</th>\n",
       "      <td>Distance</td>\n",
       "      <td>1.476564</td>\n",
       "    </tr>\n",
       "    <tr>\n",
       "      <th>4</th>\n",
       "      <td>Postcode</td>\n",
       "      <td>0.962008</td>\n",
       "    </tr>\n",
       "    <tr>\n",
       "      <th>5</th>\n",
       "      <td>Bedroom2</td>\n",
       "      <td>2.677000</td>\n",
       "    </tr>\n",
       "    <tr>\n",
       "      <th>6</th>\n",
       "      <td>Bathroom</td>\n",
       "      <td>2.310036</td>\n",
       "    </tr>\n",
       "    <tr>\n",
       "      <th>7</th>\n",
       "      <td>Car</td>\n",
       "      <td>1.196352</td>\n",
       "    </tr>\n",
       "    <tr>\n",
       "      <th>8</th>\n",
       "      <td>Landsize</td>\n",
       "      <td>0.691693</td>\n",
       "    </tr>\n",
       "    <tr>\n",
       "      <th>9</th>\n",
       "      <td>BuildingArea</td>\n",
       "      <td>3.465943</td>\n",
       "    </tr>\n",
       "    <tr>\n",
       "      <th>10</th>\n",
       "      <td>YearBuilt</td>\n",
       "      <td>1.857076</td>\n",
       "    </tr>\n",
       "    <tr>\n",
       "      <th>11</th>\n",
       "      <td>CouncilArea</td>\n",
       "      <td>1.130367</td>\n",
       "    </tr>\n",
       "    <tr>\n",
       "      <th>12</th>\n",
       "      <td>Lattitude</td>\n",
       "      <td>1.444948</td>\n",
       "    </tr>\n",
       "    <tr>\n",
       "      <th>13</th>\n",
       "      <td>Longtitude</td>\n",
       "      <td>1.508461</td>\n",
       "    </tr>\n",
       "    <tr>\n",
       "      <th>14</th>\n",
       "      <td>Regionname</td>\n",
       "      <td>1.130639</td>\n",
       "    </tr>\n",
       "    <tr>\n",
       "      <th>15</th>\n",
       "      <td>Propertycount</td>\n",
       "      <td>1.075581</td>\n",
       "    </tr>\n",
       "  </tbody>\n",
       "</table>\n",
       "</div>"
      ],
      "text/plain": [
       "          Feature     Score\n",
       "0           Rooms  2.813637\n",
       "1            Type  2.737971\n",
       "2          Method  0.805016\n",
       "3        Distance  1.476564\n",
       "4        Postcode  0.962008\n",
       "5        Bedroom2  2.677000\n",
       "6        Bathroom  2.310036\n",
       "7             Car  1.196352\n",
       "8        Landsize  0.691693\n",
       "9    BuildingArea  3.465943\n",
       "10      YearBuilt  1.857076\n",
       "11    CouncilArea  1.130367\n",
       "12      Lattitude  1.444948\n",
       "13     Longtitude  1.508461\n",
       "14     Regionname  1.130639\n",
       "15  Propertycount  1.075581"
      ]
     },
     "execution_count": 23,
     "metadata": {},
     "output_type": "execute_result"
    }
   ],
   "source": [
    "Feat = SelectKBest(score_func=f_classif,k=10)\n",
    "BestFeat = Feat.fit(X,Y)\n",
    "\n",
    "cols = pd.DataFrame(X.columns)\n",
    "score = pd.DataFrame(BestFeat.scores_)\n",
    "BF = pd.concat([cols,score],axis=1)\n",
    "BF.columns = ['Feature','Score']\n",
    "BF"
   ]
  },
  {
   "cell_type": "code",
   "execution_count": 24,
   "id": "df406b39",
   "metadata": {},
   "outputs": [
    {
     "data": {
      "text/html": [
       "<div>\n",
       "<style scoped>\n",
       "    .dataframe tbody tr th:only-of-type {\n",
       "        vertical-align: middle;\n",
       "    }\n",
       "\n",
       "    .dataframe tbody tr th {\n",
       "        vertical-align: top;\n",
       "    }\n",
       "\n",
       "    .dataframe thead th {\n",
       "        text-align: right;\n",
       "    }\n",
       "</style>\n",
       "<table border=\"1\" class=\"dataframe\">\n",
       "  <thead>\n",
       "    <tr style=\"text-align: right;\">\n",
       "      <th></th>\n",
       "      <th>Feature</th>\n",
       "      <th>Score</th>\n",
       "    </tr>\n",
       "  </thead>\n",
       "  <tbody>\n",
       "    <tr>\n",
       "      <th>9</th>\n",
       "      <td>BuildingArea</td>\n",
       "      <td>3.465943</td>\n",
       "    </tr>\n",
       "    <tr>\n",
       "      <th>0</th>\n",
       "      <td>Rooms</td>\n",
       "      <td>2.813637</td>\n",
       "    </tr>\n",
       "    <tr>\n",
       "      <th>1</th>\n",
       "      <td>Type</td>\n",
       "      <td>2.737971</td>\n",
       "    </tr>\n",
       "    <tr>\n",
       "      <th>5</th>\n",
       "      <td>Bedroom2</td>\n",
       "      <td>2.677000</td>\n",
       "    </tr>\n",
       "    <tr>\n",
       "      <th>6</th>\n",
       "      <td>Bathroom</td>\n",
       "      <td>2.310036</td>\n",
       "    </tr>\n",
       "    <tr>\n",
       "      <th>10</th>\n",
       "      <td>YearBuilt</td>\n",
       "      <td>1.857076</td>\n",
       "    </tr>\n",
       "    <tr>\n",
       "      <th>13</th>\n",
       "      <td>Longtitude</td>\n",
       "      <td>1.508461</td>\n",
       "    </tr>\n",
       "    <tr>\n",
       "      <th>3</th>\n",
       "      <td>Distance</td>\n",
       "      <td>1.476564</td>\n",
       "    </tr>\n",
       "    <tr>\n",
       "      <th>12</th>\n",
       "      <td>Lattitude</td>\n",
       "      <td>1.444948</td>\n",
       "    </tr>\n",
       "    <tr>\n",
       "      <th>7</th>\n",
       "      <td>Car</td>\n",
       "      <td>1.196352</td>\n",
       "    </tr>\n",
       "    <tr>\n",
       "      <th>14</th>\n",
       "      <td>Regionname</td>\n",
       "      <td>1.130639</td>\n",
       "    </tr>\n",
       "    <tr>\n",
       "      <th>11</th>\n",
       "      <td>CouncilArea</td>\n",
       "      <td>1.130367</td>\n",
       "    </tr>\n",
       "  </tbody>\n",
       "</table>\n",
       "</div>"
      ],
      "text/plain": [
       "         Feature     Score\n",
       "9   BuildingArea  3.465943\n",
       "0          Rooms  2.813637\n",
       "1           Type  2.737971\n",
       "5       Bedroom2  2.677000\n",
       "6       Bathroom  2.310036\n",
       "10     YearBuilt  1.857076\n",
       "13    Longtitude  1.508461\n",
       "3       Distance  1.476564\n",
       "12     Lattitude  1.444948\n",
       "7            Car  1.196352\n",
       "14    Regionname  1.130639\n",
       "11   CouncilArea  1.130367"
      ]
     },
     "execution_count": 24,
     "metadata": {},
     "output_type": "execute_result"
    }
   ],
   "source": [
    "BestFeatures = pd.DataFrame(BF.nlargest(12,'Score'))\n",
    "BestFeatures"
   ]
  },
  {
   "cell_type": "markdown",
   "id": "7ba18d9d",
   "metadata": {},
   "source": [
    "### Model Fitting"
   ]
  },
  {
   "cell_type": "code",
   "execution_count": 25,
   "id": "e9163552",
   "metadata": {},
   "outputs": [],
   "source": [
    "X = X[BestFeatures['Feature']]"
   ]
  },
  {
   "cell_type": "code",
   "execution_count": 26,
   "id": "fcbdb113",
   "metadata": {},
   "outputs": [],
   "source": [
    "from sklearn.model_selection import train_test_split\n",
    "\n",
    "X_train,X_test,Y_train,Y_test = train_test_split(X,Y,test_size=0.25,random_state=42)"
   ]
  },
  {
   "cell_type": "code",
   "execution_count": 27,
   "id": "0269d0b1",
   "metadata": {},
   "outputs": [],
   "source": [
    "## Linear Regression\n",
    "from sklearn.linear_model import LinearRegression\n",
    "Reg_model = LinearRegression()"
   ]
  },
  {
   "cell_type": "code",
   "execution_count": 28,
   "id": "5cc4fc13",
   "metadata": {},
   "outputs": [],
   "source": [
    "Reg_model.fit(X_train,Y_train)\n",
    "Y_pred = Reg_model.predict(X_test)"
   ]
  },
  {
   "cell_type": "code",
   "execution_count": 29,
   "id": "a75fe997",
   "metadata": {},
   "outputs": [],
   "source": [
    "from sklearn.metrics import *"
   ]
  },
  {
   "cell_type": "code",
   "execution_count": 30,
   "id": "be9b7cfd",
   "metadata": {},
   "outputs": [
    {
     "name": "stdout",
     "output_type": "stream",
     "text": [
      "R2 score 0.5298320766475566\n",
      "0.5306734912198712\n",
      "0.5298320766475566\n"
     ]
    }
   ],
   "source": [
    "r2 = r2_score(Y_test,Y_pred)\n",
    "print(\"R2 score\", r2)\n",
    "print(Reg_model.score(X_train,Y_train))\n",
    "print(Reg_model.score(X_test,Y_test))"
   ]
  },
  {
   "cell_type": "code",
   "execution_count": 31,
   "id": "27a806aa",
   "metadata": {},
   "outputs": [],
   "source": [
    "### Random Forest Regressor\n",
    "from sklearn.ensemble import RandomForestRegressor\n",
    "from memory_profiler import profile"
   ]
  },
  {
   "cell_type": "code",
   "execution_count": 32,
   "id": "0e404bc9",
   "metadata": {},
   "outputs": [],
   "source": [
    "X1_train,X1_test,Y1_train,Y1_test = train_test_split(X,Y,test_size=0.25,random_state=0)\n",
    "RF_model = RandomForestRegressor(n_jobs=-1)"
   ]
  },
  {
   "cell_type": "code",
   "execution_count": 33,
   "id": "655808a5",
   "metadata": {},
   "outputs": [],
   "source": [
    "RF_model.fit(X1_train,Y1_train)\n",
    "Y1_pred = RF_model.predict(X1_test)"
   ]
  },
  {
   "cell_type": "code",
   "execution_count": 34,
   "id": "f01a8362",
   "metadata": {},
   "outputs": [
    {
     "data": {
      "text/plain": [
       "0.5917333016706261"
      ]
     },
     "execution_count": 34,
     "metadata": {},
     "output_type": "execute_result"
    }
   ],
   "source": [
    "from sklearn.metrics import accuracy_score\n",
    "#accuracy_score(Y_test,Y_pred)\n",
    "RF_model.score(X1_test,Y1_test)"
   ]
  },
  {
   "cell_type": "code",
   "execution_count": 35,
   "id": "01546b4b",
   "metadata": {},
   "outputs": [],
   "source": [
    "## KNN\n",
    "from sklearn.neighbors import KNeighborsRegressor\n",
    "\n",
    "KNN_model = KNeighborsRegressor(12)"
   ]
  },
  {
   "cell_type": "code",
   "execution_count": 36,
   "id": "67df73f3",
   "metadata": {},
   "outputs": [
    {
     "data": {
      "text/plain": [
       "KNeighborsRegressor(n_neighbors=12)"
      ]
     },
     "execution_count": 36,
     "metadata": {},
     "output_type": "execute_result"
    }
   ],
   "source": [
    "KNN_model.fit(X_train,Y_train)"
   ]
  },
  {
   "cell_type": "code",
   "execution_count": 37,
   "id": "84d95c61",
   "metadata": {},
   "outputs": [
    {
     "data": {
      "text/plain": [
       "0.5728870850850591"
      ]
     },
     "execution_count": 37,
     "metadata": {},
     "output_type": "execute_result"
    }
   ],
   "source": [
    "KNN_model.score(X_test,Y_test)"
   ]
  },
  {
   "cell_type": "markdown",
   "id": "cba7db04",
   "metadata": {},
   "source": [
    "## Hyper Parameter Tuning"
   ]
  },
  {
   "cell_type": "code",
   "execution_count": 41,
   "id": "5eba61f0",
   "metadata": {},
   "outputs": [],
   "source": [
    "from sklearn.model_selection import RandomizedSearchCV\n",
    "from scipy.stats import randint"
   ]
  },
  {
   "cell_type": "code",
   "execution_count": 42,
   "id": "506fe7df",
   "metadata": {},
   "outputs": [],
   "source": [
    "RF_params = {\n",
    "                'criterion' : ['mse','mae'],\n",
    "                'min_samples_leaf' : [1,2,3],\n",
    "                'max_leaf_nodes' : [2,3,4],\n",
    "                'random_state' : [1,5,42],\n",
    "                'ccp_alpha' : [0.0,0.2,0.5,1,10],\n",
    "             }"
   ]
  },
  {
   "cell_type": "raw",
   "id": "6c1999e9",
   "metadata": {},
   "source": [
    "RandmSV = RandomizedSearchCV(\n",
    "                        RF_model,\n",
    "                        param_distributions=RF_params,\n",
    "                        cv=3,\n",
    "                        n_jobs=-1\n",
    "                     )\n",
    "\n",
    "RandmSV.fit(X_train,Y_train)\n",
    "result = pd.DataFrame(RandmSV.cv_results_)"
   ]
  },
  {
   "cell_type": "code",
   "execution_count": 46,
   "id": "39b612bc",
   "metadata": {},
   "outputs": [],
   "source": [
    "KNN_params = {\n",
    "                'n_neighbors' : [5,7,10],\n",
    "                'weights' : ['uniform','distance'],\n",
    "                'algorithm' : ['auto','ball_tree','kd_tree','brute'],\n",
    "                'p' : [2,3,5],\n",
    "             }"
   ]
  },
  {
   "cell_type": "code",
   "execution_count": 47,
   "id": "3d731cd3",
   "metadata": {},
   "outputs": [],
   "source": [
    "RandmSV = RandomizedSearchCV(\n",
    "                        KNN_model,\n",
    "                        param_distributions=KNN_params,\n",
    "                        cv=3,\n",
    "                        n_jobs=-1\n",
    "                     )\n",
    "\n",
    "RandmSV.fit(X_train,Y_train)\n",
    "result = pd.DataFrame(RandmSV.cv_results_)"
   ]
  },
  {
   "cell_type": "code",
   "execution_count": 48,
   "id": "9e8af37e",
   "metadata": {},
   "outputs": [
    {
     "data": {
      "text/html": [
       "<div>\n",
       "<style scoped>\n",
       "    .dataframe tbody tr th:only-of-type {\n",
       "        vertical-align: middle;\n",
       "    }\n",
       "\n",
       "    .dataframe tbody tr th {\n",
       "        vertical-align: top;\n",
       "    }\n",
       "\n",
       "    .dataframe thead th {\n",
       "        text-align: right;\n",
       "    }\n",
       "</style>\n",
       "<table border=\"1\" class=\"dataframe\">\n",
       "  <thead>\n",
       "    <tr style=\"text-align: right;\">\n",
       "      <th></th>\n",
       "      <th>mean_fit_time</th>\n",
       "      <th>std_fit_time</th>\n",
       "      <th>mean_score_time</th>\n",
       "      <th>std_score_time</th>\n",
       "      <th>param_weights</th>\n",
       "      <th>param_p</th>\n",
       "      <th>param_n_neighbors</th>\n",
       "      <th>param_algorithm</th>\n",
       "      <th>params</th>\n",
       "      <th>split0_test_score</th>\n",
       "      <th>split1_test_score</th>\n",
       "      <th>split2_test_score</th>\n",
       "      <th>mean_test_score</th>\n",
       "      <th>std_test_score</th>\n",
       "      <th>rank_test_score</th>\n",
       "    </tr>\n",
       "  </thead>\n",
       "  <tbody>\n",
       "    <tr>\n",
       "      <th>0</th>\n",
       "      <td>0.070576</td>\n",
       "      <td>0.004567</td>\n",
       "      <td>0.509800</td>\n",
       "      <td>0.015200</td>\n",
       "      <td>distance</td>\n",
       "      <td>2</td>\n",
       "      <td>10</td>\n",
       "      <td>auto</td>\n",
       "      <td>{'weights': 'distance', 'p': 2, 'n_neighbors':...</td>\n",
       "      <td>0.556597</td>\n",
       "      <td>0.544853</td>\n",
       "      <td>0.539815</td>\n",
       "      <td>0.547088</td>\n",
       "      <td>0.007031</td>\n",
       "      <td>1</td>\n",
       "    </tr>\n",
       "    <tr>\n",
       "      <th>1</th>\n",
       "      <td>0.134165</td>\n",
       "      <td>0.104171</td>\n",
       "      <td>6.458012</td>\n",
       "      <td>0.141090</td>\n",
       "      <td>uniform</td>\n",
       "      <td>3</td>\n",
       "      <td>10</td>\n",
       "      <td>auto</td>\n",
       "      <td>{'weights': 'uniform', 'p': 3, 'n_neighbors': ...</td>\n",
       "      <td>0.554066</td>\n",
       "      <td>0.536455</td>\n",
       "      <td>0.529149</td>\n",
       "      <td>0.539890</td>\n",
       "      <td>0.010458</td>\n",
       "      <td>3</td>\n",
       "    </tr>\n",
       "    <tr>\n",
       "      <th>2</th>\n",
       "      <td>0.007203</td>\n",
       "      <td>0.000016</td>\n",
       "      <td>27.880806</td>\n",
       "      <td>0.131784</td>\n",
       "      <td>distance</td>\n",
       "      <td>5</td>\n",
       "      <td>5</td>\n",
       "      <td>brute</td>\n",
       "      <td>{'weights': 'distance', 'p': 5, 'n_neighbors':...</td>\n",
       "      <td>0.517731</td>\n",
       "      <td>0.498458</td>\n",
       "      <td>0.496647</td>\n",
       "      <td>0.504278</td>\n",
       "      <td>0.009541</td>\n",
       "      <td>10</td>\n",
       "    </tr>\n",
       "    <tr>\n",
       "      <th>3</th>\n",
       "      <td>0.082475</td>\n",
       "      <td>0.018048</td>\n",
       "      <td>6.018718</td>\n",
       "      <td>0.048715</td>\n",
       "      <td>uniform</td>\n",
       "      <td>5</td>\n",
       "      <td>10</td>\n",
       "      <td>kd_tree</td>\n",
       "      <td>{'weights': 'uniform', 'p': 5, 'n_neighbors': ...</td>\n",
       "      <td>0.544202</td>\n",
       "      <td>0.527717</td>\n",
       "      <td>0.525328</td>\n",
       "      <td>0.532416</td>\n",
       "      <td>0.008391</td>\n",
       "      <td>4</td>\n",
       "    </tr>\n",
       "    <tr>\n",
       "      <th>4</th>\n",
       "      <td>0.127037</td>\n",
       "      <td>0.003025</td>\n",
       "      <td>25.463494</td>\n",
       "      <td>0.300183</td>\n",
       "      <td>distance</td>\n",
       "      <td>3</td>\n",
       "      <td>7</td>\n",
       "      <td>ball_tree</td>\n",
       "      <td>{'weights': 'distance', 'p': 3, 'n_neighbors':...</td>\n",
       "      <td>0.537821</td>\n",
       "      <td>0.518350</td>\n",
       "      <td>0.518876</td>\n",
       "      <td>0.525016</td>\n",
       "      <td>0.009057</td>\n",
       "      <td>6</td>\n",
       "    </tr>\n",
       "    <tr>\n",
       "      <th>5</th>\n",
       "      <td>0.080969</td>\n",
       "      <td>0.011589</td>\n",
       "      <td>4.907798</td>\n",
       "      <td>0.097807</td>\n",
       "      <td>distance</td>\n",
       "      <td>3</td>\n",
       "      <td>5</td>\n",
       "      <td>kd_tree</td>\n",
       "      <td>{'weights': 'distance', 'p': 3, 'n_neighbors':...</td>\n",
       "      <td>0.524338</td>\n",
       "      <td>0.499488</td>\n",
       "      <td>0.499906</td>\n",
       "      <td>0.507911</td>\n",
       "      <td>0.011617</td>\n",
       "      <td>9</td>\n",
       "    </tr>\n",
       "    <tr>\n",
       "      <th>6</th>\n",
       "      <td>0.007904</td>\n",
       "      <td>0.000484</td>\n",
       "      <td>27.818804</td>\n",
       "      <td>0.038938</td>\n",
       "      <td>uniform</td>\n",
       "      <td>3</td>\n",
       "      <td>7</td>\n",
       "      <td>brute</td>\n",
       "      <td>{'weights': 'uniform', 'p': 3, 'n_neighbors': ...</td>\n",
       "      <td>0.538607</td>\n",
       "      <td>0.518931</td>\n",
       "      <td>0.516840</td>\n",
       "      <td>0.524793</td>\n",
       "      <td>0.009806</td>\n",
       "      <td>8</td>\n",
       "    </tr>\n",
       "    <tr>\n",
       "      <th>7</th>\n",
       "      <td>0.083656</td>\n",
       "      <td>0.006826</td>\n",
       "      <td>6.435622</td>\n",
       "      <td>0.123174</td>\n",
       "      <td>distance</td>\n",
       "      <td>3</td>\n",
       "      <td>10</td>\n",
       "      <td>kd_tree</td>\n",
       "      <td>{'weights': 'distance', 'p': 3, 'n_neighbors':...</td>\n",
       "      <td>0.553719</td>\n",
       "      <td>0.536411</td>\n",
       "      <td>0.532726</td>\n",
       "      <td>0.540952</td>\n",
       "      <td>0.009152</td>\n",
       "      <td>2</td>\n",
       "    </tr>\n",
       "    <tr>\n",
       "      <th>8</th>\n",
       "      <td>0.008167</td>\n",
       "      <td>0.000827</td>\n",
       "      <td>1.851226</td>\n",
       "      <td>0.075939</td>\n",
       "      <td>distance</td>\n",
       "      <td>2</td>\n",
       "      <td>7</td>\n",
       "      <td>brute</td>\n",
       "      <td>{'weights': 'distance', 'p': 2, 'n_neighbors':...</td>\n",
       "      <td>0.542649</td>\n",
       "      <td>0.523858</td>\n",
       "      <td>0.523099</td>\n",
       "      <td>0.529869</td>\n",
       "      <td>0.009043</td>\n",
       "      <td>5</td>\n",
       "    </tr>\n",
       "    <tr>\n",
       "      <th>9</th>\n",
       "      <td>0.072459</td>\n",
       "      <td>0.017584</td>\n",
       "      <td>5.444737</td>\n",
       "      <td>0.178748</td>\n",
       "      <td>uniform</td>\n",
       "      <td>3</td>\n",
       "      <td>7</td>\n",
       "      <td>auto</td>\n",
       "      <td>{'weights': 'uniform', 'p': 3, 'n_neighbors': ...</td>\n",
       "      <td>0.538580</td>\n",
       "      <td>0.518939</td>\n",
       "      <td>0.516911</td>\n",
       "      <td>0.524810</td>\n",
       "      <td>0.009772</td>\n",
       "      <td>7</td>\n",
       "    </tr>\n",
       "  </tbody>\n",
       "</table>\n",
       "</div>"
      ],
      "text/plain": [
       "   mean_fit_time  std_fit_time  mean_score_time  std_score_time param_weights  \\\n",
       "0       0.070576      0.004567         0.509800        0.015200      distance   \n",
       "1       0.134165      0.104171         6.458012        0.141090       uniform   \n",
       "2       0.007203      0.000016        27.880806        0.131784      distance   \n",
       "3       0.082475      0.018048         6.018718        0.048715       uniform   \n",
       "4       0.127037      0.003025        25.463494        0.300183      distance   \n",
       "5       0.080969      0.011589         4.907798        0.097807      distance   \n",
       "6       0.007904      0.000484        27.818804        0.038938       uniform   \n",
       "7       0.083656      0.006826         6.435622        0.123174      distance   \n",
       "8       0.008167      0.000827         1.851226        0.075939      distance   \n",
       "9       0.072459      0.017584         5.444737        0.178748       uniform   \n",
       "\n",
       "  param_p param_n_neighbors param_algorithm  \\\n",
       "0       2                10            auto   \n",
       "1       3                10            auto   \n",
       "2       5                 5           brute   \n",
       "3       5                10         kd_tree   \n",
       "4       3                 7       ball_tree   \n",
       "5       3                 5         kd_tree   \n",
       "6       3                 7           brute   \n",
       "7       3                10         kd_tree   \n",
       "8       2                 7           brute   \n",
       "9       3                 7            auto   \n",
       "\n",
       "                                              params  split0_test_score  \\\n",
       "0  {'weights': 'distance', 'p': 2, 'n_neighbors':...           0.556597   \n",
       "1  {'weights': 'uniform', 'p': 3, 'n_neighbors': ...           0.554066   \n",
       "2  {'weights': 'distance', 'p': 5, 'n_neighbors':...           0.517731   \n",
       "3  {'weights': 'uniform', 'p': 5, 'n_neighbors': ...           0.544202   \n",
       "4  {'weights': 'distance', 'p': 3, 'n_neighbors':...           0.537821   \n",
       "5  {'weights': 'distance', 'p': 3, 'n_neighbors':...           0.524338   \n",
       "6  {'weights': 'uniform', 'p': 3, 'n_neighbors': ...           0.538607   \n",
       "7  {'weights': 'distance', 'p': 3, 'n_neighbors':...           0.553719   \n",
       "8  {'weights': 'distance', 'p': 2, 'n_neighbors':...           0.542649   \n",
       "9  {'weights': 'uniform', 'p': 3, 'n_neighbors': ...           0.538580   \n",
       "\n",
       "   split1_test_score  split2_test_score  mean_test_score  std_test_score  \\\n",
       "0           0.544853           0.539815         0.547088        0.007031   \n",
       "1           0.536455           0.529149         0.539890        0.010458   \n",
       "2           0.498458           0.496647         0.504278        0.009541   \n",
       "3           0.527717           0.525328         0.532416        0.008391   \n",
       "4           0.518350           0.518876         0.525016        0.009057   \n",
       "5           0.499488           0.499906         0.507911        0.011617   \n",
       "6           0.518931           0.516840         0.524793        0.009806   \n",
       "7           0.536411           0.532726         0.540952        0.009152   \n",
       "8           0.523858           0.523099         0.529869        0.009043   \n",
       "9           0.518939           0.516911         0.524810        0.009772   \n",
       "\n",
       "   rank_test_score  \n",
       "0                1  \n",
       "1                3  \n",
       "2               10  \n",
       "3                4  \n",
       "4                6  \n",
       "5                9  \n",
       "6                8  \n",
       "7                2  \n",
       "8                5  \n",
       "9                7  "
      ]
     },
     "execution_count": 48,
     "metadata": {},
     "output_type": "execute_result"
    }
   ],
   "source": [
    "result"
   ]
  },
  {
   "cell_type": "code",
   "execution_count": 49,
   "id": "9aa11dfc",
   "metadata": {},
   "outputs": [
    {
     "name": "stdout",
     "output_type": "stream",
     "text": [
      "KNN Best Parameters :\n",
      "\n",
      " {'weights': 'distance', 'p': 2, 'n_neighbors': 10, 'algorithm': 'auto'}\n",
      "\n",
      "\n",
      "KNN Best Score :\n",
      "\n",
      " 0.5470883879108378\n"
     ]
    }
   ],
   "source": [
    "print(f'KNN Best Parameters :\\n\\n {RandmSV.best_params_}\\n\\n')\n",
    "print(f'KNN Best Score :\\n\\n {RandmSV.best_score_}')"
   ]
  }
 ],
 "metadata": {
  "kernelspec": {
   "display_name": "Python 3 (ipykernel)",
   "language": "python",
   "name": "python3"
  },
  "language_info": {
   "codemirror_mode": {
    "name": "ipython",
    "version": 3
   },
   "file_extension": ".py",
   "mimetype": "text/x-python",
   "name": "python",
   "nbconvert_exporter": "python",
   "pygments_lexer": "ipython3",
   "version": "3.9.7"
  }
 },
 "nbformat": 4,
 "nbformat_minor": 5
}
