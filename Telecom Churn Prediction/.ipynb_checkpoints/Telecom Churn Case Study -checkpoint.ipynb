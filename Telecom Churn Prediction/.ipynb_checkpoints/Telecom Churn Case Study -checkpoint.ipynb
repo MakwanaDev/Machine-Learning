{
 "cells": [
  {
   "cell_type": "code",
   "execution_count": 1,
   "id": "bfd561e0",
   "metadata": {},
   "outputs": [],
   "source": [
    "import pandas as pd\n",
    "import numpy as np\n",
    "import matplotlib.pyplot as plt\n",
    "import seaborn as sns\n",
    "%matplotlib inline"
   ]
  },
  {
   "cell_type": "markdown",
   "id": "ba7eb8f7",
   "metadata": {},
   "source": [
    "# Data Exploration and Pre-processing"
   ]
  },
  {
   "cell_type": "markdown",
   "id": "94c11f02",
   "metadata": {},
   "source": [
    "### 1) load the given dataset"
   ]
  },
  {
   "cell_type": "code",
   "execution_count": 2,
   "id": "c8336621",
   "metadata": {},
   "outputs": [
    {
     "ename": "FileNotFoundError",
     "evalue": "[Errno 2] No such file or directory: 'churn_telecom.csv'",
     "output_type": "error",
     "traceback": [
      "\u001b[1;31m---------------------------------------------------------------------------\u001b[0m",
      "\u001b[1;31mFileNotFoundError\u001b[0m                         Traceback (most recent call last)",
      "Cell \u001b[1;32mIn[2], line 1\u001b[0m\n\u001b[1;32m----> 1\u001b[0m df \u001b[38;5;241m=\u001b[39m \u001b[43mpd\u001b[49m\u001b[38;5;241;43m.\u001b[39;49m\u001b[43mread_csv\u001b[49m\u001b[43m(\u001b[49m\u001b[38;5;124;43m'\u001b[39;49m\u001b[38;5;124;43mchurn_telecom.csv\u001b[39;49m\u001b[38;5;124;43m'\u001b[39;49m\u001b[43m)\u001b[49m\n",
      "File \u001b[1;32m~\\anaconda3\\envs\\Tflow1\\lib\\site-packages\\pandas\\util\\_decorators.py:211\u001b[0m, in \u001b[0;36mdeprecate_kwarg.<locals>._deprecate_kwarg.<locals>.wrapper\u001b[1;34m(*args, **kwargs)\u001b[0m\n\u001b[0;32m    209\u001b[0m     \u001b[38;5;28;01melse\u001b[39;00m:\n\u001b[0;32m    210\u001b[0m         kwargs[new_arg_name] \u001b[38;5;241m=\u001b[39m new_arg_value\n\u001b[1;32m--> 211\u001b[0m \u001b[38;5;28;01mreturn\u001b[39;00m func(\u001b[38;5;241m*\u001b[39margs, \u001b[38;5;241m*\u001b[39m\u001b[38;5;241m*\u001b[39mkwargs)\n",
      "File \u001b[1;32m~\\anaconda3\\envs\\Tflow1\\lib\\site-packages\\pandas\\util\\_decorators.py:331\u001b[0m, in \u001b[0;36mdeprecate_nonkeyword_arguments.<locals>.decorate.<locals>.wrapper\u001b[1;34m(*args, **kwargs)\u001b[0m\n\u001b[0;32m    325\u001b[0m \u001b[38;5;28;01mif\u001b[39;00m \u001b[38;5;28mlen\u001b[39m(args) \u001b[38;5;241m>\u001b[39m num_allow_args:\n\u001b[0;32m    326\u001b[0m     warnings\u001b[38;5;241m.\u001b[39mwarn(\n\u001b[0;32m    327\u001b[0m         msg\u001b[38;5;241m.\u001b[39mformat(arguments\u001b[38;5;241m=\u001b[39m_format_argument_list(allow_args)),\n\u001b[0;32m    328\u001b[0m         \u001b[38;5;167;01mFutureWarning\u001b[39;00m,\n\u001b[0;32m    329\u001b[0m         stacklevel\u001b[38;5;241m=\u001b[39mfind_stack_level(),\n\u001b[0;32m    330\u001b[0m     )\n\u001b[1;32m--> 331\u001b[0m \u001b[38;5;28;01mreturn\u001b[39;00m func(\u001b[38;5;241m*\u001b[39margs, \u001b[38;5;241m*\u001b[39m\u001b[38;5;241m*\u001b[39mkwargs)\n",
      "File \u001b[1;32m~\\anaconda3\\envs\\Tflow1\\lib\\site-packages\\pandas\\io\\parsers\\readers.py:950\u001b[0m, in \u001b[0;36mread_csv\u001b[1;34m(filepath_or_buffer, sep, delimiter, header, names, index_col, usecols, squeeze, prefix, mangle_dupe_cols, dtype, engine, converters, true_values, false_values, skipinitialspace, skiprows, skipfooter, nrows, na_values, keep_default_na, na_filter, verbose, skip_blank_lines, parse_dates, infer_datetime_format, keep_date_col, date_parser, dayfirst, cache_dates, iterator, chunksize, compression, thousands, decimal, lineterminator, quotechar, quoting, doublequote, escapechar, comment, encoding, encoding_errors, dialect, error_bad_lines, warn_bad_lines, on_bad_lines, delim_whitespace, low_memory, memory_map, float_precision, storage_options)\u001b[0m\n\u001b[0;32m    935\u001b[0m kwds_defaults \u001b[38;5;241m=\u001b[39m _refine_defaults_read(\n\u001b[0;32m    936\u001b[0m     dialect,\n\u001b[0;32m    937\u001b[0m     delimiter,\n\u001b[1;32m   (...)\u001b[0m\n\u001b[0;32m    946\u001b[0m     defaults\u001b[38;5;241m=\u001b[39m{\u001b[38;5;124m\"\u001b[39m\u001b[38;5;124mdelimiter\u001b[39m\u001b[38;5;124m\"\u001b[39m: \u001b[38;5;124m\"\u001b[39m\u001b[38;5;124m,\u001b[39m\u001b[38;5;124m\"\u001b[39m},\n\u001b[0;32m    947\u001b[0m )\n\u001b[0;32m    948\u001b[0m kwds\u001b[38;5;241m.\u001b[39mupdate(kwds_defaults)\n\u001b[1;32m--> 950\u001b[0m \u001b[38;5;28;01mreturn\u001b[39;00m \u001b[43m_read\u001b[49m\u001b[43m(\u001b[49m\u001b[43mfilepath_or_buffer\u001b[49m\u001b[43m,\u001b[49m\u001b[43m \u001b[49m\u001b[43mkwds\u001b[49m\u001b[43m)\u001b[49m\n",
      "File \u001b[1;32m~\\anaconda3\\envs\\Tflow1\\lib\\site-packages\\pandas\\io\\parsers\\readers.py:605\u001b[0m, in \u001b[0;36m_read\u001b[1;34m(filepath_or_buffer, kwds)\u001b[0m\n\u001b[0;32m    602\u001b[0m _validate_names(kwds\u001b[38;5;241m.\u001b[39mget(\u001b[38;5;124m\"\u001b[39m\u001b[38;5;124mnames\u001b[39m\u001b[38;5;124m\"\u001b[39m, \u001b[38;5;28;01mNone\u001b[39;00m))\n\u001b[0;32m    604\u001b[0m \u001b[38;5;66;03m# Create the parser.\u001b[39;00m\n\u001b[1;32m--> 605\u001b[0m parser \u001b[38;5;241m=\u001b[39m TextFileReader(filepath_or_buffer, \u001b[38;5;241m*\u001b[39m\u001b[38;5;241m*\u001b[39mkwds)\n\u001b[0;32m    607\u001b[0m \u001b[38;5;28;01mif\u001b[39;00m chunksize \u001b[38;5;129;01mor\u001b[39;00m iterator:\n\u001b[0;32m    608\u001b[0m     \u001b[38;5;28;01mreturn\u001b[39;00m parser\n",
      "File \u001b[1;32m~\\anaconda3\\envs\\Tflow1\\lib\\site-packages\\pandas\\io\\parsers\\readers.py:1442\u001b[0m, in \u001b[0;36mTextFileReader.__init__\u001b[1;34m(self, f, engine, **kwds)\u001b[0m\n\u001b[0;32m   1439\u001b[0m     \u001b[38;5;28mself\u001b[39m\u001b[38;5;241m.\u001b[39moptions[\u001b[38;5;124m\"\u001b[39m\u001b[38;5;124mhas_index_names\u001b[39m\u001b[38;5;124m\"\u001b[39m] \u001b[38;5;241m=\u001b[39m kwds[\u001b[38;5;124m\"\u001b[39m\u001b[38;5;124mhas_index_names\u001b[39m\u001b[38;5;124m\"\u001b[39m]\n\u001b[0;32m   1441\u001b[0m \u001b[38;5;28mself\u001b[39m\u001b[38;5;241m.\u001b[39mhandles: IOHandles \u001b[38;5;241m|\u001b[39m \u001b[38;5;28;01mNone\u001b[39;00m \u001b[38;5;241m=\u001b[39m \u001b[38;5;28;01mNone\u001b[39;00m\n\u001b[1;32m-> 1442\u001b[0m \u001b[38;5;28mself\u001b[39m\u001b[38;5;241m.\u001b[39m_engine \u001b[38;5;241m=\u001b[39m \u001b[38;5;28;43mself\u001b[39;49m\u001b[38;5;241;43m.\u001b[39;49m\u001b[43m_make_engine\u001b[49m\u001b[43m(\u001b[49m\u001b[43mf\u001b[49m\u001b[43m,\u001b[49m\u001b[43m \u001b[49m\u001b[38;5;28;43mself\u001b[39;49m\u001b[38;5;241;43m.\u001b[39;49m\u001b[43mengine\u001b[49m\u001b[43m)\u001b[49m\n",
      "File \u001b[1;32m~\\anaconda3\\envs\\Tflow1\\lib\\site-packages\\pandas\\io\\parsers\\readers.py:1735\u001b[0m, in \u001b[0;36mTextFileReader._make_engine\u001b[1;34m(self, f, engine)\u001b[0m\n\u001b[0;32m   1733\u001b[0m     \u001b[38;5;28;01mif\u001b[39;00m \u001b[38;5;124m\"\u001b[39m\u001b[38;5;124mb\u001b[39m\u001b[38;5;124m\"\u001b[39m \u001b[38;5;129;01mnot\u001b[39;00m \u001b[38;5;129;01min\u001b[39;00m mode:\n\u001b[0;32m   1734\u001b[0m         mode \u001b[38;5;241m+\u001b[39m\u001b[38;5;241m=\u001b[39m \u001b[38;5;124m\"\u001b[39m\u001b[38;5;124mb\u001b[39m\u001b[38;5;124m\"\u001b[39m\n\u001b[1;32m-> 1735\u001b[0m \u001b[38;5;28mself\u001b[39m\u001b[38;5;241m.\u001b[39mhandles \u001b[38;5;241m=\u001b[39m \u001b[43mget_handle\u001b[49m\u001b[43m(\u001b[49m\n\u001b[0;32m   1736\u001b[0m \u001b[43m    \u001b[49m\u001b[43mf\u001b[49m\u001b[43m,\u001b[49m\n\u001b[0;32m   1737\u001b[0m \u001b[43m    \u001b[49m\u001b[43mmode\u001b[49m\u001b[43m,\u001b[49m\n\u001b[0;32m   1738\u001b[0m \u001b[43m    \u001b[49m\u001b[43mencoding\u001b[49m\u001b[38;5;241;43m=\u001b[39;49m\u001b[38;5;28;43mself\u001b[39;49m\u001b[38;5;241;43m.\u001b[39;49m\u001b[43moptions\u001b[49m\u001b[38;5;241;43m.\u001b[39;49m\u001b[43mget\u001b[49m\u001b[43m(\u001b[49m\u001b[38;5;124;43m\"\u001b[39;49m\u001b[38;5;124;43mencoding\u001b[39;49m\u001b[38;5;124;43m\"\u001b[39;49m\u001b[43m,\u001b[49m\u001b[43m \u001b[49m\u001b[38;5;28;43;01mNone\u001b[39;49;00m\u001b[43m)\u001b[49m\u001b[43m,\u001b[49m\n\u001b[0;32m   1739\u001b[0m \u001b[43m    \u001b[49m\u001b[43mcompression\u001b[49m\u001b[38;5;241;43m=\u001b[39;49m\u001b[38;5;28;43mself\u001b[39;49m\u001b[38;5;241;43m.\u001b[39;49m\u001b[43moptions\u001b[49m\u001b[38;5;241;43m.\u001b[39;49m\u001b[43mget\u001b[49m\u001b[43m(\u001b[49m\u001b[38;5;124;43m\"\u001b[39;49m\u001b[38;5;124;43mcompression\u001b[39;49m\u001b[38;5;124;43m\"\u001b[39;49m\u001b[43m,\u001b[49m\u001b[43m \u001b[49m\u001b[38;5;28;43;01mNone\u001b[39;49;00m\u001b[43m)\u001b[49m\u001b[43m,\u001b[49m\n\u001b[0;32m   1740\u001b[0m \u001b[43m    \u001b[49m\u001b[43mmemory_map\u001b[49m\u001b[38;5;241;43m=\u001b[39;49m\u001b[38;5;28;43mself\u001b[39;49m\u001b[38;5;241;43m.\u001b[39;49m\u001b[43moptions\u001b[49m\u001b[38;5;241;43m.\u001b[39;49m\u001b[43mget\u001b[49m\u001b[43m(\u001b[49m\u001b[38;5;124;43m\"\u001b[39;49m\u001b[38;5;124;43mmemory_map\u001b[39;49m\u001b[38;5;124;43m\"\u001b[39;49m\u001b[43m,\u001b[49m\u001b[43m \u001b[49m\u001b[38;5;28;43;01mFalse\u001b[39;49;00m\u001b[43m)\u001b[49m\u001b[43m,\u001b[49m\n\u001b[0;32m   1741\u001b[0m \u001b[43m    \u001b[49m\u001b[43mis_text\u001b[49m\u001b[38;5;241;43m=\u001b[39;49m\u001b[43mis_text\u001b[49m\u001b[43m,\u001b[49m\n\u001b[0;32m   1742\u001b[0m \u001b[43m    \u001b[49m\u001b[43merrors\u001b[49m\u001b[38;5;241;43m=\u001b[39;49m\u001b[38;5;28;43mself\u001b[39;49m\u001b[38;5;241;43m.\u001b[39;49m\u001b[43moptions\u001b[49m\u001b[38;5;241;43m.\u001b[39;49m\u001b[43mget\u001b[49m\u001b[43m(\u001b[49m\u001b[38;5;124;43m\"\u001b[39;49m\u001b[38;5;124;43mencoding_errors\u001b[39;49m\u001b[38;5;124;43m\"\u001b[39;49m\u001b[43m,\u001b[49m\u001b[43m \u001b[49m\u001b[38;5;124;43m\"\u001b[39;49m\u001b[38;5;124;43mstrict\u001b[39;49m\u001b[38;5;124;43m\"\u001b[39;49m\u001b[43m)\u001b[49m\u001b[43m,\u001b[49m\n\u001b[0;32m   1743\u001b[0m \u001b[43m    \u001b[49m\u001b[43mstorage_options\u001b[49m\u001b[38;5;241;43m=\u001b[39;49m\u001b[38;5;28;43mself\u001b[39;49m\u001b[38;5;241;43m.\u001b[39;49m\u001b[43moptions\u001b[49m\u001b[38;5;241;43m.\u001b[39;49m\u001b[43mget\u001b[49m\u001b[43m(\u001b[49m\u001b[38;5;124;43m\"\u001b[39;49m\u001b[38;5;124;43mstorage_options\u001b[39;49m\u001b[38;5;124;43m\"\u001b[39;49m\u001b[43m,\u001b[49m\u001b[43m \u001b[49m\u001b[38;5;28;43;01mNone\u001b[39;49;00m\u001b[43m)\u001b[49m\u001b[43m,\u001b[49m\n\u001b[0;32m   1744\u001b[0m \u001b[43m\u001b[49m\u001b[43m)\u001b[49m\n\u001b[0;32m   1745\u001b[0m \u001b[38;5;28;01massert\u001b[39;00m \u001b[38;5;28mself\u001b[39m\u001b[38;5;241m.\u001b[39mhandles \u001b[38;5;129;01mis\u001b[39;00m \u001b[38;5;129;01mnot\u001b[39;00m \u001b[38;5;28;01mNone\u001b[39;00m\n\u001b[0;32m   1746\u001b[0m f \u001b[38;5;241m=\u001b[39m \u001b[38;5;28mself\u001b[39m\u001b[38;5;241m.\u001b[39mhandles\u001b[38;5;241m.\u001b[39mhandle\n",
      "File \u001b[1;32m~\\anaconda3\\envs\\Tflow1\\lib\\site-packages\\pandas\\io\\common.py:856\u001b[0m, in \u001b[0;36mget_handle\u001b[1;34m(path_or_buf, mode, encoding, compression, memory_map, is_text, errors, storage_options)\u001b[0m\n\u001b[0;32m    851\u001b[0m \u001b[38;5;28;01melif\u001b[39;00m \u001b[38;5;28misinstance\u001b[39m(handle, \u001b[38;5;28mstr\u001b[39m):\n\u001b[0;32m    852\u001b[0m     \u001b[38;5;66;03m# Check whether the filename is to be opened in binary mode.\u001b[39;00m\n\u001b[0;32m    853\u001b[0m     \u001b[38;5;66;03m# Binary mode does not support 'encoding' and 'newline'.\u001b[39;00m\n\u001b[0;32m    854\u001b[0m     \u001b[38;5;28;01mif\u001b[39;00m ioargs\u001b[38;5;241m.\u001b[39mencoding \u001b[38;5;129;01mand\u001b[39;00m \u001b[38;5;124m\"\u001b[39m\u001b[38;5;124mb\u001b[39m\u001b[38;5;124m\"\u001b[39m \u001b[38;5;129;01mnot\u001b[39;00m \u001b[38;5;129;01min\u001b[39;00m ioargs\u001b[38;5;241m.\u001b[39mmode:\n\u001b[0;32m    855\u001b[0m         \u001b[38;5;66;03m# Encoding\u001b[39;00m\n\u001b[1;32m--> 856\u001b[0m         handle \u001b[38;5;241m=\u001b[39m \u001b[38;5;28;43mopen\u001b[39;49m\u001b[43m(\u001b[49m\n\u001b[0;32m    857\u001b[0m \u001b[43m            \u001b[49m\u001b[43mhandle\u001b[49m\u001b[43m,\u001b[49m\n\u001b[0;32m    858\u001b[0m \u001b[43m            \u001b[49m\u001b[43mioargs\u001b[49m\u001b[38;5;241;43m.\u001b[39;49m\u001b[43mmode\u001b[49m\u001b[43m,\u001b[49m\n\u001b[0;32m    859\u001b[0m \u001b[43m            \u001b[49m\u001b[43mencoding\u001b[49m\u001b[38;5;241;43m=\u001b[39;49m\u001b[43mioargs\u001b[49m\u001b[38;5;241;43m.\u001b[39;49m\u001b[43mencoding\u001b[49m\u001b[43m,\u001b[49m\n\u001b[0;32m    860\u001b[0m \u001b[43m            \u001b[49m\u001b[43merrors\u001b[49m\u001b[38;5;241;43m=\u001b[39;49m\u001b[43merrors\u001b[49m\u001b[43m,\u001b[49m\n\u001b[0;32m    861\u001b[0m \u001b[43m            \u001b[49m\u001b[43mnewline\u001b[49m\u001b[38;5;241;43m=\u001b[39;49m\u001b[38;5;124;43m\"\u001b[39;49m\u001b[38;5;124;43m\"\u001b[39;49m\u001b[43m,\u001b[49m\n\u001b[0;32m    862\u001b[0m \u001b[43m        \u001b[49m\u001b[43m)\u001b[49m\n\u001b[0;32m    863\u001b[0m     \u001b[38;5;28;01melse\u001b[39;00m:\n\u001b[0;32m    864\u001b[0m         \u001b[38;5;66;03m# Binary mode\u001b[39;00m\n\u001b[0;32m    865\u001b[0m         handle \u001b[38;5;241m=\u001b[39m \u001b[38;5;28mopen\u001b[39m(handle, ioargs\u001b[38;5;241m.\u001b[39mmode)\n",
      "\u001b[1;31mFileNotFoundError\u001b[0m: [Errno 2] No such file or directory: 'churn_telecom.csv'"
     ]
    }
   ],
   "source": [
    "df = pd.read_csv('churn_telecom.csv')"
   ]
  },
  {
   "cell_type": "code",
   "execution_count": null,
   "id": "c666a9af",
   "metadata": {},
   "outputs": [],
   "source": [
    "df.shape"
   ]
  },
  {
   "cell_type": "code",
   "execution_count": null,
   "id": "f14be6a1",
   "metadata": {},
   "outputs": [],
   "source": [
    "pd.set_option('display.max_columns',None)"
   ]
  },
  {
   "cell_type": "code",
   "execution_count": null,
   "id": "bfa40a4b",
   "metadata": {
    "scrolled": true
   },
   "outputs": [],
   "source": [
    "df"
   ]
  },
  {
   "cell_type": "code",
   "execution_count": null,
   "id": "9df26ff7",
   "metadata": {},
   "outputs": [],
   "source": [
    "df.info()"
   ]
  },
  {
   "cell_type": "markdown",
   "id": "c4769fed",
   "metadata": {},
   "source": [
    "### 2) print all the column names"
   ]
  },
  {
   "cell_type": "code",
   "execution_count": null,
   "id": "ab4dff8c",
   "metadata": {
    "scrolled": true
   },
   "outputs": [],
   "source": [
    "df.columns"
   ]
  },
  {
   "cell_type": "code",
   "execution_count": null,
   "id": "b5e28185",
   "metadata": {},
   "outputs": [],
   "source": [
    "df['State'].unique()"
   ]
  },
  {
   "cell_type": "markdown",
   "id": "43bab036",
   "metadata": {},
   "source": [
    "### 3) describe the data"
   ]
  },
  {
   "cell_type": "code",
   "execution_count": null,
   "id": "86a2e99e",
   "metadata": {},
   "outputs": [],
   "source": [
    "df.describe()"
   ]
  },
  {
   "cell_type": "markdown",
   "id": "9bfcc267",
   "metadata": {},
   "source": [
    "### 4) find all the Null values"
   ]
  },
  {
   "cell_type": "code",
   "execution_count": null,
   "id": "51200f2e",
   "metadata": {},
   "outputs": [],
   "source": [
    "df.isnull().sum()"
   ]
  },
  {
   "cell_type": "markdown",
   "id": "853f94cb",
   "metadata": {},
   "source": [
    "### 5) plot the customers who have international plans"
   ]
  },
  {
   "cell_type": "code",
   "execution_count": null,
   "id": "18812fde",
   "metadata": {},
   "outputs": [],
   "source": [
    "sns.countplot('International plan',data=df)\n",
    "print(df['International plan'].value_counts())"
   ]
  },
  {
   "cell_type": "markdown",
   "id": "200371a6",
   "metadata": {},
   "source": [
    "### 6) plot the customers who have Voice mail plan"
   ]
  },
  {
   "cell_type": "code",
   "execution_count": null,
   "id": "48f6789f",
   "metadata": {},
   "outputs": [],
   "source": [
    "sns.countplot('Voice mail plan',data=df)\n",
    "print(df['Voice mail plan'].value_counts())"
   ]
  },
  {
   "cell_type": "markdown",
   "id": "eb64e391",
   "metadata": {},
   "source": [
    "### 7) Plot the total day calls"
   ]
  },
  {
   "cell_type": "code",
   "execution_count": null,
   "id": "4ac49bd7",
   "metadata": {},
   "outputs": [],
   "source": [
    "sns.set(rc={'figure.figsize':(12,6)})\n",
    "sns.distplot(df['Total day calls'])"
   ]
  },
  {
   "cell_type": "markdown",
   "id": "50c0cf81",
   "metadata": {},
   "source": [
    "### 8) Plot the total day charge"
   ]
  },
  {
   "cell_type": "code",
   "execution_count": null,
   "id": "00a35cf8",
   "metadata": {},
   "outputs": [],
   "source": [
    "sns.set(rc={'figure.figsize':(12,6)})\n",
    "sns.distplot(df['Total day charge'], color='red')"
   ]
  },
  {
   "cell_type": "markdown",
   "id": "3e23da08",
   "metadata": {},
   "source": [
    "### 9) Display pie chart for value count in Churn column"
   ]
  },
  {
   "cell_type": "code",
   "execution_count": null,
   "id": "6041f060",
   "metadata": {},
   "outputs": [],
   "source": [
    "df['Churn'].value_counts()\n",
    "df['Churn'].unique()"
   ]
  },
  {
   "cell_type": "code",
   "execution_count": null,
   "id": "95d29a31",
   "metadata": {},
   "outputs": [],
   "source": [
    "values = [len(df['Churn'][df['Churn']==False]),len(df['Churn'][df['Churn']==True])]\n",
    "plt.pie(values,labels=df['Churn'].unique())"
   ]
  },
  {
   "cell_type": "markdown",
   "id": "2ecb37cf",
   "metadata": {},
   "source": [
    "### 10) Display a scatter plot between total day calls and total day charges"
   ]
  },
  {
   "cell_type": "code",
   "execution_count": null,
   "id": "9501751a",
   "metadata": {},
   "outputs": [],
   "source": [
    "plt.xlabel('Total Day Calls')\n",
    "plt.ylabel('Total Day Charge')\n",
    "plt.scatter(df['Total day calls'],df['Total day charge'])"
   ]
  },
  {
   "cell_type": "code",
   "execution_count": null,
   "id": "72c2df88",
   "metadata": {},
   "outputs": [],
   "source": [
    "sns.set(rc={'figure.figsize':(12,8)})\n",
    "sns.scatterplot(data=df,x=\"Total day calls\",y=\"Total day charge\",hue=\"Churn\")"
   ]
  },
  {
   "cell_type": "markdown",
   "id": "ba1bb0a7",
   "metadata": {},
   "source": [
    "### 11) Display a scatter plot between total day calls and total night calls"
   ]
  },
  {
   "cell_type": "code",
   "execution_count": null,
   "id": "2e36049e",
   "metadata": {},
   "outputs": [],
   "source": [
    "plt.xlabel('Total Day Calls')\n",
    "plt.ylabel('Total Night Calls')\n",
    "plt.scatter(df['Total day calls'],df['Total night calls'],c='green')"
   ]
  },
  {
   "cell_type": "code",
   "execution_count": null,
   "id": "223ce3f1",
   "metadata": {},
   "outputs": [],
   "source": [
    "sns.scatterplot(data=df,x=\"Total day calls\",y=\"Total night charge\",hue=\"Churn\")"
   ]
  },
  {
   "cell_type": "code",
   "execution_count": null,
   "id": "01d77420",
   "metadata": {},
   "outputs": [],
   "source": [
    "#sns.set(rc={'figure.figsize':(12,8)})\n",
    "#sns.relplot(x='Total day calls',y='Total night calls',hue='Churn',data=df)"
   ]
  },
  {
   "cell_type": "markdown",
   "id": "0fc1eaee",
   "metadata": {},
   "source": [
    "### 12) Display a boxplot of Total day minutes with respect to Churn"
   ]
  },
  {
   "cell_type": "code",
   "execution_count": null,
   "id": "5dffbe96",
   "metadata": {},
   "outputs": [],
   "source": [
    "sns.set(rc={'figure.figsize':(8,6)})\n",
    "sns.boxplot('Churn','Total day minutes',data=df)"
   ]
  },
  {
   "cell_type": "markdown",
   "id": "544f916b",
   "metadata": {},
   "source": [
    "### 13) Display a boxplot of Total day charge with respect to Churn"
   ]
  },
  {
   "cell_type": "code",
   "execution_count": null,
   "id": "76471d1a",
   "metadata": {},
   "outputs": [],
   "source": [
    "sns.set(rc={'figure.figsize':(8,6)})\n",
    "sns.boxplot('Churn','Total day charge',data=df)"
   ]
  },
  {
   "cell_type": "markdown",
   "id": "95e67442",
   "metadata": {},
   "source": [
    "# Working with models"
   ]
  },
  {
   "cell_type": "markdown",
   "id": "aa13b8a3",
   "metadata": {},
   "source": [
    "### 1) Perform encoding on churn"
   ]
  },
  {
   "cell_type": "code",
   "execution_count": null,
   "id": "5da1da9d",
   "metadata": {},
   "outputs": [],
   "source": [
    "from sklearn.preprocessing import LabelEncoder"
   ]
  },
  {
   "cell_type": "code",
   "execution_count": null,
   "id": "5a8d3b53",
   "metadata": {},
   "outputs": [],
   "source": [
    "df1 = df.copy()"
   ]
  },
  {
   "cell_type": "code",
   "execution_count": null,
   "id": "d8b6274b",
   "metadata": {},
   "outputs": [],
   "source": [
    "df1['Churn'] = df['Churn'] = LabelEncoder().fit_transform(df1['Churn'])"
   ]
  },
  {
   "cell_type": "code",
   "execution_count": null,
   "id": "9665ed84",
   "metadata": {
    "scrolled": true
   },
   "outputs": [],
   "source": [
    "df1['Churn']"
   ]
  },
  {
   "cell_type": "markdown",
   "id": "3e88e875",
   "metadata": {},
   "source": [
    "### 2) Perform encoding on International Plan"
   ]
  },
  {
   "cell_type": "code",
   "execution_count": null,
   "id": "d39617c3",
   "metadata": {},
   "outputs": [],
   "source": [
    "df1['International plan'] = LabelEncoder().fit_transform(df1['International plan'])"
   ]
  },
  {
   "cell_type": "code",
   "execution_count": null,
   "id": "facda98e",
   "metadata": {},
   "outputs": [],
   "source": [
    "df1['International plan']"
   ]
  },
  {
   "cell_type": "markdown",
   "id": "9638a899",
   "metadata": {},
   "source": [
    "### 3) Perform encoding on voice mail plan using sklearn"
   ]
  },
  {
   "cell_type": "code",
   "execution_count": null,
   "id": "eca75800",
   "metadata": {},
   "outputs": [],
   "source": [
    "df1['Voice mail plan'] = LabelEncoder().fit_transform(df1['Voice mail plan'])"
   ]
  },
  {
   "cell_type": "code",
   "execution_count": null,
   "id": "f483868c",
   "metadata": {
    "scrolled": true
   },
   "outputs": [],
   "source": [
    "df1['Voice mail plan']"
   ]
  },
  {
   "cell_type": "markdown",
   "id": "98141dbc",
   "metadata": {},
   "source": [
    "### 4) Check the correlation among all the columns"
   ]
  },
  {
   "cell_type": "code",
   "execution_count": null,
   "id": "d06195a3",
   "metadata": {},
   "outputs": [],
   "source": [
    "df1.corr()"
   ]
  },
  {
   "cell_type": "code",
   "execution_count": null,
   "id": "8ad64fb4",
   "metadata": {},
   "outputs": [],
   "source": [
    "plt.figure(figsize = (12,8))\n",
    "sns.heatmap(df1.corr(), cmap = \"rainbow\")"
   ]
  },
  {
   "cell_type": "markdown",
   "id": "9e85ac11",
   "metadata": {},
   "source": [
    "### 5) Create features and target data. Only select features data that are highly correlated with target data."
   ]
  },
  {
   "cell_type": "code",
   "execution_count": null,
   "id": "ab78cccd",
   "metadata": {},
   "outputs": [],
   "source": [
    "from sklearn.feature_selection import SelectKBest , chi2"
   ]
  },
  {
   "cell_type": "code",
   "execution_count": null,
   "id": "d806492d",
   "metadata": {
    "scrolled": true
   },
   "outputs": [],
   "source": [
    "X = df1.drop(['State','Churn'],axis=1)\n",
    "Y = df.iloc[:,-1]\n",
    "\n",
    "Features = SelectKBest(score_func=chi2 , k=10)\n",
    "Best_feat = Features.fit(X,Y)\n",
    "\n",
    "dfscores = pd.DataFrame(Best_feat.scores_)\n",
    "df_X = pd.DataFrame(X.columns)\n",
    "\n",
    "best_feat = pd.concat([df_X,dfscores],axis=1)\n",
    "\n",
    "best_feat.columns = ['Features','Scores']\n",
    "BF = pd.DataFrame(best_feat.nlargest(10,'Scores'))\n",
    "print(BF)"
   ]
  },
  {
   "cell_type": "markdown",
   "id": "c51d226c",
   "metadata": {},
   "source": [
    "### 6) Scale the target data (churn)"
   ]
  },
  {
   "cell_type": "code",
   "execution_count": null,
   "id": "9f8fe8ab",
   "metadata": {},
   "outputs": [],
   "source": [
    "from sklearn.preprocessing import StandardScaler"
   ]
  },
  {
   "cell_type": "code",
   "execution_count": null,
   "id": "d6ae1aed",
   "metadata": {},
   "outputs": [],
   "source": [
    "STD = StandardScaler()"
   ]
  },
  {
   "cell_type": "code",
   "execution_count": null,
   "id": "6416392b",
   "metadata": {},
   "outputs": [],
   "source": [
    "df1['Churn'] = STD.fit_transform(df1[['Churn']])\n",
    "df1['Churn']"
   ]
  },
  {
   "cell_type": "markdown",
   "id": "d0c38353",
   "metadata": {},
   "source": [
    "### 7) Check the shape of both training data and testing data"
   ]
  },
  {
   "cell_type": "code",
   "execution_count": null,
   "id": "434d1455",
   "metadata": {},
   "outputs": [],
   "source": [
    "X = df1[BF['Features']]\n",
    "Y = df['Churn']"
   ]
  },
  {
   "cell_type": "code",
   "execution_count": null,
   "id": "1a27aca8",
   "metadata": {},
   "outputs": [],
   "source": [
    "from sklearn.model_selection import train_test_split\n",
    "X_train,X_test,Y_train,Y_test = train_test_split(X,Y,test_size = 0.2, random_state = 42)"
   ]
  },
  {
   "cell_type": "code",
   "execution_count": null,
   "id": "4efce925",
   "metadata": {},
   "outputs": [],
   "source": [
    "print(\"X Training size : \" , X_train.shape)\n",
    "print(\"Y Training size : \" , Y_train.shape)\n",
    "print(\"X Testing size : \" , X_test.shape)\n",
    "print(\"Y Testing size : \" , Y_test.shape)"
   ]
  },
  {
   "cell_type": "code",
   "execution_count": null,
   "id": "875a684a",
   "metadata": {},
   "outputs": [],
   "source": [
    "BF1 = pd.DataFrame(best_feat.nlargest(5,'Scores'))\n",
    "BF1['Churn'] = df['Churn'].copy()\n",
    "df2 = df1[BF['Features']]\n",
    "df2['Churn'] = df['Churn'].copy()\n",
    "df2['Churn']\n",
    "df3 = df1[BF1['Features']]\n",
    "df3['Churn'] = df['Churn'].copy()\n",
    "df3"
   ]
  },
  {
   "cell_type": "code",
   "execution_count": null,
   "id": "093cae34",
   "metadata": {},
   "outputs": [],
   "source": [
    "sns.pairplot(df3,hue=\"Churn\")"
   ]
  },
  {
   "cell_type": "markdown",
   "id": "a2c39ba9",
   "metadata": {},
   "source": [
    "### 8) Apply Logistic regression"
   ]
  },
  {
   "cell_type": "code",
   "execution_count": null,
   "id": "8973677e",
   "metadata": {},
   "outputs": [],
   "source": [
    "from sklearn.linear_model import LogisticRegression\n",
    "Logit = LogisticRegression()"
   ]
  },
  {
   "cell_type": "code",
   "execution_count": null,
   "id": "c6ae40dc",
   "metadata": {},
   "outputs": [],
   "source": [
    "Logit.fit(X_train,Y_train)"
   ]
  },
  {
   "cell_type": "code",
   "execution_count": null,
   "id": "14c9abdf",
   "metadata": {},
   "outputs": [],
   "source": [
    "print(\"Trainng score : \",Logit.score(X_train,Y_train))\n",
    "print(\"Testing score : \",Logit.score(X_test,Y_test))"
   ]
  },
  {
   "cell_type": "markdown",
   "id": "fcd8907b",
   "metadata": {},
   "source": [
    "### 9) Display confusion matrix"
   ]
  },
  {
   "cell_type": "code",
   "execution_count": null,
   "id": "21cca71e",
   "metadata": {},
   "outputs": [],
   "source": [
    "from sklearn.metrics import confusion_matrix"
   ]
  },
  {
   "cell_type": "code",
   "execution_count": null,
   "id": "dc5d885f",
   "metadata": {},
   "outputs": [],
   "source": [
    "Y_pred = Logit.predict(X_test)"
   ]
  },
  {
   "cell_type": "code",
   "execution_count": null,
   "id": "a29a2468",
   "metadata": {},
   "outputs": [],
   "source": [
    "confusion = confusion_matrix(Y_test,Y_pred)\n",
    "confusion"
   ]
  },
  {
   "cell_type": "code",
   "execution_count": null,
   "id": "82120996",
   "metadata": {},
   "outputs": [],
   "source": [
    "plt.figure(figsize=(8,5))\n",
    "sns.heatmap(confusion,annot=True)\n",
    "plt.xlabel('Predicted label')\n",
    "plt.ylabel('Actual label')"
   ]
  },
  {
   "cell_type": "markdown",
   "id": "db1550c1",
   "metadata": {},
   "source": [
    "### 10) Perform Hyper parameter tuning"
   ]
  },
  {
   "cell_type": "code",
   "execution_count": null,
   "id": "ae939451",
   "metadata": {},
   "outputs": [],
   "source": [
    "from sklearn.model_selection import GridSearchCV\n",
    "from sklearn.ensemble import RandomForestClassifier\n",
    "from sklearn.svm import SVC\n",
    "from sklearn.metrics import accuracy_score"
   ]
  },
  {
   "cell_type": "code",
   "execution_count": null,
   "id": "eea57a17",
   "metadata": {},
   "outputs": [],
   "source": [
    "BF1 = pd.DataFrame(best_feat.nlargest(5,'Scores'))\n",
    "X1 = df1[BF1['Features']]\n",
    "Y1 = df['Churn'].copy()"
   ]
  },
  {
   "cell_type": "code",
   "execution_count": null,
   "id": "031f1d6e",
   "metadata": {},
   "outputs": [],
   "source": [
    "from sklearn.model_selection import train_test_split\n",
    "X1_train,X1_test,Y1_train,Y1_test = train_test_split(X1,Y1,test_size = 0.2, random_state = 42)"
   ]
  },
  {
   "cell_type": "code",
   "execution_count": null,
   "id": "a111c651",
   "metadata": {},
   "outputs": [],
   "source": [
    "X1_train.shape"
   ]
  },
  {
   "cell_type": "code",
   "execution_count": null,
   "id": "04ab1411",
   "metadata": {},
   "outputs": [],
   "source": [
    "Y1_train.shape"
   ]
  },
  {
   "cell_type": "code",
   "execution_count": null,
   "id": "871cbe51",
   "metadata": {},
   "outputs": [],
   "source": [
    "#n_estimators = [int(x) for x in np.linspace(start=50 , stop = 1000, num = 5)]\n",
    "\n",
    "# Grid Search CV\n",
    "\n",
    "grid = GridSearchCV(SVC(gamma='auto'),\n",
    "      {\n",
    "        'C' : [1,10,20],\n",
    "       'kernel' : ['rbf','linear'],\n",
    "        'random_state' : [0,5,42],      \n",
    "    },\n",
    "    cv=5,\n",
    "    n_jobs=-1,\n",
    "    return_train_score=True,\n",
    ")"
   ]
  },
  {
   "cell_type": "markdown",
   "id": "809a537a",
   "metadata": {},
   "source": [
    "### 11) Create a model"
   ]
  },
  {
   "cell_type": "code",
   "execution_count": null,
   "id": "5b50b82a",
   "metadata": {},
   "outputs": [],
   "source": [
    "grid.fit(X1_train,Y1_train)\n",
    "score = pd.DataFrame(grid.cv_results_)"
   ]
  },
  {
   "cell_type": "code",
   "execution_count": null,
   "id": "60aba2c8",
   "metadata": {},
   "outputs": [],
   "source": [
    "score"
   ]
  },
  {
   "cell_type": "markdown",
   "id": "1e806b8d",
   "metadata": {},
   "source": [
    "### 12) Check the model score of both training and testing data"
   ]
  },
  {
   "cell_type": "code",
   "execution_count": null,
   "id": "693965cb",
   "metadata": {},
   "outputs": [],
   "source": [
    "score[['params','mean_test_score','mean_train_score']].head()"
   ]
  },
  {
   "cell_type": "markdown",
   "id": "17ffd300",
   "metadata": {},
   "source": [
    "### 13) Perform cross validation technique with SVM Classifier"
   ]
  },
  {
   "cell_type": "code",
   "execution_count": null,
   "id": "a80f7bf0",
   "metadata": {},
   "outputs": [],
   "source": [
    "from sklearn.model_selection import cross_val_score"
   ]
  },
  {
   "cell_type": "code",
   "execution_count": null,
   "id": "80853077",
   "metadata": {},
   "outputs": [],
   "source": [
    "kernels = ['linear','poly']\n",
    "C = [1,10,20]\n",
    "Avg_score = {}\n",
    "\n",
    "for kval in kernels:\n",
    "    for cval in C:\n",
    "        cv_score = cross_val_score(SVC(C=cval , kernel=kval , gamma='auto'),X_train,Y_train,cv=5,n_jobs=-1)\n",
    "        Avg_score['C Value : ' + str(cval)] = np.average(cv_score)\n",
    "\n",
    "Avg_score"
   ]
  },
  {
   "cell_type": "markdown",
   "id": "a8cf4c89",
   "metadata": {},
   "source": [
    "### 14) Perform hyperparameter tuning with different classifier models"
   ]
  },
  {
   "cell_type": "code",
   "execution_count": null,
   "id": "dcbeba3c",
   "metadata": {},
   "outputs": [],
   "source": [
    "from sklearn.ensemble import RandomForestClassifier\n",
    "from sklearn.tree import DecisionTreeClassifier"
   ]
  },
  {
   "cell_type": "code",
   "execution_count": null,
   "id": "b4f5088e",
   "metadata": {},
   "outputs": [],
   "source": [
    "model_params = {\n",
    "    'SVM' : {\n",
    "        'Model' : SVC(gamma='auto'),\n",
    "        'Params' : {\n",
    "            'C' : [1,5,10],\n",
    "          # 'kernel' : ['rbf','linear']\n",
    "        }\n",
    "    },\n",
    "    \n",
    "    'Random Forest' : {\n",
    "        'Model' : RandomForestClassifier(),\n",
    "        'Params' : {\n",
    "            'n_estimators' : [10,20,30,40],\n",
    "            'random_state' : [0,5,42]\n",
    "        }\n",
    "    },\n",
    "    \n",
    "     'Decision Tree' : {\n",
    "        'Model' : DecisionTreeClassifier(),\n",
    "        'Params' : {\n",
    "            \n",
    "            'criterion' : ['gini','entropy'],\n",
    "            'splitter' : ['best','random'],\n",
    "            'random_state' : [0,5,42]\n",
    "        }\n",
    "    },\n",
    "    \n",
    "    'Logistic Regression' : {\n",
    "        'Model' : LogisticRegression(solver='liblinear',multi_class='auto'),\n",
    "        'Params' : {\n",
    "            'C' : [1,5,10]\n",
    "        }\n",
    "    }\n",
    "}"
   ]
  },
  {
   "cell_type": "code",
   "execution_count": null,
   "id": "331bf00d",
   "metadata": {},
   "outputs": [],
   "source": [
    "scores = []\n",
    "\n",
    "for model_name, mp in model_params.items():\n",
    "    clf = GridSearchCV(mp['Model'],mp['Params'],cv=5,return_train_score=False,n_jobs=-1)\n",
    "    clf.fit(X_train,Y_train)\n",
    "\n",
    "    scores.append({\n",
    "        'Model' : model_name,\n",
    "        'Best Score': clf.best_score_,\n",
    "        'Best Parameters': clf.best_params_\n",
    "    })"
   ]
  },
  {
   "cell_type": "code",
   "execution_count": null,
   "id": "d1636e61",
   "metadata": {},
   "outputs": [],
   "source": [
    "HPT = pd.DataFrame(scores)\n",
    "HPT"
   ]
  },
  {
   "cell_type": "markdown",
   "id": "7bc3724d",
   "metadata": {},
   "source": [
    "### 15) Perform k-means clustering on dataset and divide it into four clusters"
   ]
  },
  {
   "cell_type": "code",
   "execution_count": null,
   "id": "68a0a3a8",
   "metadata": {},
   "outputs": [],
   "source": [
    "from sklearn.cluster import KMeans"
   ]
  },
  {
   "cell_type": "code",
   "execution_count": null,
   "id": "0fde34a6",
   "metadata": {},
   "outputs": [],
   "source": [
    "df2 = X.copy()\n",
    "df2['Churn'] = df['Churn'].copy()"
   ]
  },
  {
   "cell_type": "code",
   "execution_count": null,
   "id": "a225fae2",
   "metadata": {},
   "outputs": [],
   "source": [
    "KM = KMeans(n_clusters=4)\n",
    "KM.fit(df2)"
   ]
  },
  {
   "cell_type": "code",
   "execution_count": null,
   "id": "6ed002a1",
   "metadata": {},
   "outputs": [],
   "source": [
    "Predicted = KM.fit_predict(df2)\n",
    "df2['Cluster'] = Predicted"
   ]
  },
  {
   "cell_type": "code",
   "execution_count": null,
   "id": "d0352ac9",
   "metadata": {},
   "outputs": [],
   "source": [
    "cluster_1 = df2[df2.Cluster==0]\n",
    "cluster_2 = df2[df2.Cluster==1]\n",
    "cluster_3 = df2[df2.Cluster==2]\n",
    "cluster_4 = df2[df2.Cluster==3]"
   ]
  },
  {
   "cell_type": "code",
   "execution_count": null,
   "id": "6fc5168e",
   "metadata": {},
   "outputs": [],
   "source": [
    "plt.scatter(cluster_1.iloc[:,0],cluster_1.iloc[:,6],color='red')\n",
    "plt.scatter(cluster_2.iloc[:,0],cluster_2.iloc[:,6],color='green')\n",
    "plt.scatter(cluster_3.iloc[:,0],cluster_3.iloc[:,6],color='blue')\n",
    "plt.scatter(cluster_4.iloc[:,0],cluster_4.iloc[:,6],color='purple')\n",
    "plt.scatter(KM.cluster_centers_[:,0],KM.cluster_centers_[:,1],color='black',marker='D',label = 'Centroid')\n",
    "plt.xlabel('Total day minutes')\n",
    "plt.ylabel('Total night minutes')"
   ]
  },
  {
   "cell_type": "code",
   "execution_count": null,
   "id": "58e28ca1",
   "metadata": {},
   "outputs": [],
   "source": [
    "from sklearn.metrics import silhouette_score"
   ]
  },
  {
   "cell_type": "code",
   "execution_count": null,
   "id": "88edc74e",
   "metadata": {},
   "outputs": [],
   "source": [
    "print(silhouette_score(df2,Predicted))"
   ]
  },
  {
   "cell_type": "markdown",
   "id": "7975d7da",
   "metadata": {},
   "source": [
    "### 16) Apply PCA give n components value to 3 show we only get 3 columns after applying PCA"
   ]
  },
  {
   "cell_type": "code",
   "execution_count": null,
   "id": "aa22bb07",
   "metadata": {},
   "outputs": [],
   "source": [
    "df3 = df1.copy()\n",
    "df3.drop(['State','Churn'],axis=1,inplace=True)"
   ]
  },
  {
   "cell_type": "code",
   "execution_count": null,
   "id": "df1d66a1",
   "metadata": {},
   "outputs": [],
   "source": [
    "from sklearn.decomposition import PCA\n",
    "from sklearn.preprocessing import StandardScaler"
   ]
  },
  {
   "cell_type": "code",
   "execution_count": null,
   "id": "0937b9d7",
   "metadata": {},
   "outputs": [],
   "source": [
    "Scaler = StandardScaler()\n",
    "Scaler.fit(df3)\n",
    "Scaled_data = Scaler.transform(df3)"
   ]
  },
  {
   "cell_type": "code",
   "execution_count": null,
   "id": "2d93d125",
   "metadata": {},
   "outputs": [],
   "source": [
    "Scaled_data"
   ]
  },
  {
   "cell_type": "code",
   "execution_count": null,
   "id": "317e34aa",
   "metadata": {},
   "outputs": [],
   "source": [
    "pca = PCA(n_components=3)\n",
    "pca.fit(Scaled_data)\n",
    "x_pca = pca.transform(Scaled_data)"
   ]
  },
  {
   "cell_type": "code",
   "execution_count": null,
   "id": "45a6daa7",
   "metadata": {},
   "outputs": [],
   "source": [
    "x_pca.shape"
   ]
  },
  {
   "cell_type": "raw",
   "id": "3a04a9fc",
   "metadata": {},
   "source": [
    "fig , ax = plt.subplots()\n",
    "ay = ax.twiny()\n",
    "\n",
    "ax.scatter(x_pca[:,0],x_pca[:,2],cmap='BuGn')\n",
    "ay.scatter(x_pca[:,1],x_pca[:,2],c=df['Churn'],cmap='RdPu')"
   ]
  }
 ],
 "metadata": {
  "kernelspec": {
   "display_name": "Python 3 (ipykernel)",
   "language": "python",
   "name": "python3"
  },
  "language_info": {
   "codemirror_mode": {
    "name": "ipython",
    "version": 3
   },
   "file_extension": ".py",
   "mimetype": "text/x-python",
   "name": "python",
   "nbconvert_exporter": "python",
   "pygments_lexer": "ipython3",
   "version": "3.10.9"
  }
 },
 "nbformat": 4,
 "nbformat_minor": 5
}
